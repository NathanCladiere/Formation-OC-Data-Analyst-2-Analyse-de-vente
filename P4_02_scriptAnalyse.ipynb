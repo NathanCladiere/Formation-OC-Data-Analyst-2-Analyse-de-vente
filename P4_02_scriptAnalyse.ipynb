{
 "cells": [
  {
   "cell_type": "code",
   "execution_count": 1,
   "metadata": {},
   "outputs": [],
   "source": [
    "import pandas as pd\n",
    "import numpy as np\n",
    "import seaborn as sns \n",
    "import matplotlib.pyplot as plt\n",
    "import math\n",
    "from datetime import datetime as dt\n",
    "import statsmodels.api as sm\n",
    "from sklearn import linear_model\n",
    "from sklearn.metrics import mean_squared_error, r2_score\n",
    "from scipy import stats"
   ]
  },
  {
   "cell_type": "code",
   "execution_count": 2,
   "metadata": {},
   "outputs": [],
   "source": [
    "#importation des données\n",
    "ventes = pd.read_csv('ventesOk.csv')\n",
    "clients = pd.read_csv('clientsOk.csv')\n",
    "produits = pd.read_csv('produitsOk.csv')\n",
    "ventes = ventes.astype({'dates':'datetime64[ns]'})"
   ]
  },
  {
   "cell_type": "markdown",
   "metadata": {},
   "source": [
    "# Clients "
   ]
  },
  {
   "cell_type": "markdown",
   "metadata": {},
   "source": [
    "#### Univarié"
   ]
  },
  {
   "cell_type": "code",
   "execution_count": 3,
   "metadata": {},
   "outputs": [],
   "source": [
    "#création d'une colonne âge (par rapport à la dernière vente)\n",
    "clients[\"age\"] = ventes['dates'].dt.year.max()-clients['birth'] "
   ]
  },
  {
   "cell_type": "code",
   "execution_count": 4,
   "metadata": {},
   "outputs": [],
   "source": [
    "#création d'une fonction créant les catégories d'âges \n",
    "def classeAge(age):\n",
    "    if age < 20:\n",
    "        val = '20 et moins'\n",
    "    elif  20 <= age <=29:\n",
    "        val = '20-29'\n",
    "    elif 30 <= age <=39:\n",
    "        val = '30-39'\n",
    "    elif 40 <= age <=49:\n",
    "        val = '40-49'\n",
    "    elif 50 <= age <=59:\n",
    "        val = '50-59'\n",
    "    elif 60 <= age <=69:\n",
    "        val = '60-69'\n",
    "    elif 70 <= age <=79:\n",
    "        val = '70-79' \n",
    "    elif 80<= age :\n",
    "        val = '80 et plus'\n",
    "    return val"
   ]
  },
  {
   "cell_type": "code",
   "execution_count": 5,
   "metadata": {},
   "outputs": [
    {
     "data": {
      "text/html": [
       "<div>\n",
       "<style scoped>\n",
       "    .dataframe tbody tr th:only-of-type {\n",
       "        vertical-align: middle;\n",
       "    }\n",
       "\n",
       "    .dataframe tbody tr th {\n",
       "        vertical-align: top;\n",
       "    }\n",
       "\n",
       "    .dataframe thead th {\n",
       "        text-align: right;\n",
       "    }\n",
       "</style>\n",
       "<table border=\"1\" class=\"dataframe\">\n",
       "  <thead>\n",
       "    <tr style=\"text-align: right;\">\n",
       "      <th></th>\n",
       "      <th>client_id</th>\n",
       "      <th>sex</th>\n",
       "      <th>birth</th>\n",
       "      <th>age</th>\n",
       "      <th>classe_age</th>\n",
       "    </tr>\n",
       "  </thead>\n",
       "  <tbody>\n",
       "    <tr>\n",
       "      <th>0</th>\n",
       "      <td>c_4410</td>\n",
       "      <td>f</td>\n",
       "      <td>1967</td>\n",
       "      <td>55</td>\n",
       "      <td>50-59</td>\n",
       "    </tr>\n",
       "    <tr>\n",
       "      <th>1</th>\n",
       "      <td>c_7839</td>\n",
       "      <td>f</td>\n",
       "      <td>1975</td>\n",
       "      <td>47</td>\n",
       "      <td>40-49</td>\n",
       "    </tr>\n",
       "    <tr>\n",
       "      <th>2</th>\n",
       "      <td>c_1699</td>\n",
       "      <td>f</td>\n",
       "      <td>1984</td>\n",
       "      <td>38</td>\n",
       "      <td>30-39</td>\n",
       "    </tr>\n",
       "    <tr>\n",
       "      <th>3</th>\n",
       "      <td>c_5961</td>\n",
       "      <td>f</td>\n",
       "      <td>1962</td>\n",
       "      <td>60</td>\n",
       "      <td>60-69</td>\n",
       "    </tr>\n",
       "    <tr>\n",
       "      <th>4</th>\n",
       "      <td>c_5320</td>\n",
       "      <td>m</td>\n",
       "      <td>1943</td>\n",
       "      <td>79</td>\n",
       "      <td>70-79</td>\n",
       "    </tr>\n",
       "    <tr>\n",
       "      <th>...</th>\n",
       "      <td>...</td>\n",
       "      <td>...</td>\n",
       "      <td>...</td>\n",
       "      <td>...</td>\n",
       "      <td>...</td>\n",
       "    </tr>\n",
       "    <tr>\n",
       "      <th>8618</th>\n",
       "      <td>c_7920</td>\n",
       "      <td>m</td>\n",
       "      <td>1956</td>\n",
       "      <td>66</td>\n",
       "      <td>60-69</td>\n",
       "    </tr>\n",
       "    <tr>\n",
       "      <th>8619</th>\n",
       "      <td>c_7403</td>\n",
       "      <td>f</td>\n",
       "      <td>1970</td>\n",
       "      <td>52</td>\n",
       "      <td>50-59</td>\n",
       "    </tr>\n",
       "    <tr>\n",
       "      <th>8620</th>\n",
       "      <td>c_5119</td>\n",
       "      <td>m</td>\n",
       "      <td>1974</td>\n",
       "      <td>48</td>\n",
       "      <td>40-49</td>\n",
       "    </tr>\n",
       "    <tr>\n",
       "      <th>8621</th>\n",
       "      <td>c_5643</td>\n",
       "      <td>f</td>\n",
       "      <td>1968</td>\n",
       "      <td>54</td>\n",
       "      <td>50-59</td>\n",
       "    </tr>\n",
       "    <tr>\n",
       "      <th>8622</th>\n",
       "      <td>c_84</td>\n",
       "      <td>f</td>\n",
       "      <td>1982</td>\n",
       "      <td>40</td>\n",
       "      <td>40-49</td>\n",
       "    </tr>\n",
       "  </tbody>\n",
       "</table>\n",
       "<p>8623 rows × 5 columns</p>\n",
       "</div>"
      ],
      "text/plain": [
       "     client_id sex  birth  age classe_age\n",
       "0       c_4410   f   1967   55      50-59\n",
       "1       c_7839   f   1975   47      40-49\n",
       "2       c_1699   f   1984   38      30-39\n",
       "3       c_5961   f   1962   60      60-69\n",
       "4       c_5320   m   1943   79      70-79\n",
       "...        ...  ..    ...  ...        ...\n",
       "8618    c_7920   m   1956   66      60-69\n",
       "8619    c_7403   f   1970   52      50-59\n",
       "8620    c_5119   m   1974   48      40-49\n",
       "8621    c_5643   f   1968   54      50-59\n",
       "8622      c_84   f   1982   40      40-49\n",
       "\n",
       "[8623 rows x 5 columns]"
      ]
     },
     "execution_count": 5,
     "metadata": {},
     "output_type": "execute_result"
    }
   ],
   "source": [
    "#Application de la fonction  \n",
    "clients[\"classe_age\"]= clients['age'].apply(classeAge)\n",
    "clients"
   ]
  },
  {
   "cell_type": "code",
   "execution_count": 6,
   "metadata": {},
   "outputs": [
    {
     "data": {
      "text/html": [
       "<div>\n",
       "<style scoped>\n",
       "    .dataframe tbody tr th:only-of-type {\n",
       "        vertical-align: middle;\n",
       "    }\n",
       "\n",
       "    .dataframe tbody tr th {\n",
       "        vertical-align: top;\n",
       "    }\n",
       "\n",
       "    .dataframe thead th {\n",
       "        text-align: right;\n",
       "    }\n",
       "</style>\n",
       "<table border=\"1\" class=\"dataframe\">\n",
       "  <thead>\n",
       "    <tr style=\"text-align: right;\">\n",
       "      <th></th>\n",
       "      <th>effectif</th>\n",
       "      <th>frequence</th>\n",
       "    </tr>\n",
       "    <tr>\n",
       "      <th>sex</th>\n",
       "      <th></th>\n",
       "      <th></th>\n",
       "    </tr>\n",
       "  </thead>\n",
       "  <tbody>\n",
       "    <tr>\n",
       "      <th>f</th>\n",
       "      <td>4491</td>\n",
       "      <td>0.520816</td>\n",
       "    </tr>\n",
       "    <tr>\n",
       "      <th>m</th>\n",
       "      <td>4132</td>\n",
       "      <td>0.479184</td>\n",
       "    </tr>\n",
       "  </tbody>\n",
       "</table>\n",
       "</div>"
      ],
      "text/plain": [
       "     effectif  frequence\n",
       "sex                     \n",
       "f        4491   0.520816\n",
       "m        4132   0.479184"
      ]
     },
     "execution_count": 6,
     "metadata": {},
     "output_type": "execute_result"
    }
   ],
   "source": [
    "# sex tableau de représentation\n",
    "clientSex = clients.groupby('sex').count()\n",
    "clientSex = clientSex[[\"client_id\"]]\n",
    "clientSex.columns = ['effectif']\n",
    "clientSex['frequence'] = clientSex.effectif/len(clients)\n",
    "clientSex"
   ]
  },
  {
   "cell_type": "code",
   "execution_count": 7,
   "metadata": {},
   "outputs": [
    {
     "data": {
      "text/html": [
       "<div>\n",
       "<style scoped>\n",
       "    .dataframe tbody tr th:only-of-type {\n",
       "        vertical-align: middle;\n",
       "    }\n",
       "\n",
       "    .dataframe tbody tr th {\n",
       "        vertical-align: top;\n",
       "    }\n",
       "\n",
       "    .dataframe thead th {\n",
       "        text-align: right;\n",
       "    }\n",
       "</style>\n",
       "<table border=\"1\" class=\"dataframe\">\n",
       "  <thead>\n",
       "    <tr style=\"text-align: right;\">\n",
       "      <th></th>\n",
       "      <th>effectif</th>\n",
       "      <th>frequence</th>\n",
       "      <th>fq_cumul</th>\n",
       "    </tr>\n",
       "    <tr>\n",
       "      <th>birth</th>\n",
       "      <th></th>\n",
       "      <th></th>\n",
       "      <th></th>\n",
       "    </tr>\n",
       "  </thead>\n",
       "  <tbody>\n",
       "    <tr>\n",
       "      <th>1929</th>\n",
       "      <td>3</td>\n",
       "      <td>0.000348</td>\n",
       "      <td>0.000348</td>\n",
       "    </tr>\n",
       "    <tr>\n",
       "      <th>1930</th>\n",
       "      <td>4</td>\n",
       "      <td>0.000464</td>\n",
       "      <td>0.000812</td>\n",
       "    </tr>\n",
       "    <tr>\n",
       "      <th>1931</th>\n",
       "      <td>4</td>\n",
       "      <td>0.000464</td>\n",
       "      <td>0.001276</td>\n",
       "    </tr>\n",
       "    <tr>\n",
       "      <th>1932</th>\n",
       "      <td>6</td>\n",
       "      <td>0.000696</td>\n",
       "      <td>0.001971</td>\n",
       "    </tr>\n",
       "    <tr>\n",
       "      <th>1933</th>\n",
       "      <td>8</td>\n",
       "      <td>0.000928</td>\n",
       "      <td>0.002899</td>\n",
       "    </tr>\n",
       "    <tr>\n",
       "      <th>...</th>\n",
       "      <td>...</td>\n",
       "      <td>...</td>\n",
       "      <td>...</td>\n",
       "    </tr>\n",
       "    <tr>\n",
       "      <th>2000</th>\n",
       "      <td>136</td>\n",
       "      <td>0.015772</td>\n",
       "      <td>0.900151</td>\n",
       "    </tr>\n",
       "    <tr>\n",
       "      <th>2001</th>\n",
       "      <td>129</td>\n",
       "      <td>0.014960</td>\n",
       "      <td>0.915111</td>\n",
       "    </tr>\n",
       "    <tr>\n",
       "      <th>2002</th>\n",
       "      <td>146</td>\n",
       "      <td>0.016931</td>\n",
       "      <td>0.932042</td>\n",
       "    </tr>\n",
       "    <tr>\n",
       "      <th>2003</th>\n",
       "      <td>146</td>\n",
       "      <td>0.016931</td>\n",
       "      <td>0.948974</td>\n",
       "    </tr>\n",
       "    <tr>\n",
       "      <th>2004</th>\n",
       "      <td>440</td>\n",
       "      <td>0.051026</td>\n",
       "      <td>1.000000</td>\n",
       "    </tr>\n",
       "  </tbody>\n",
       "</table>\n",
       "<p>76 rows × 3 columns</p>\n",
       "</div>"
      ],
      "text/plain": [
       "       effectif  frequence  fq_cumul\n",
       "birth                               \n",
       "1929          3   0.000348  0.000348\n",
       "1930          4   0.000464  0.000812\n",
       "1931          4   0.000464  0.001276\n",
       "1932          6   0.000696  0.001971\n",
       "1933          8   0.000928  0.002899\n",
       "...         ...        ...       ...\n",
       "2000        136   0.015772  0.900151\n",
       "2001        129   0.014960  0.915111\n",
       "2002        146   0.016931  0.932042\n",
       "2003        146   0.016931  0.948974\n",
       "2004        440   0.051026  1.000000\n",
       "\n",
       "[76 rows x 3 columns]"
      ]
     },
     "execution_count": 7,
     "metadata": {},
     "output_type": "execute_result"
    }
   ],
   "source": [
    "# birth tableau représentation \n",
    "clientAge = clients.groupby(\"birth\").count()\n",
    "clientAge = clientAge[['client_id']]\n",
    "clientAge.columns = ['effectif']\n",
    "clientAge['frequence'] = clientAge.effectif/len(clients)\n",
    "clientAge['fq_cumul'] = clientAge[\"frequence\"].cumsum()\n",
    "clientAge"
   ]
  },
  {
   "cell_type": "code",
   "execution_count": 8,
   "metadata": {},
   "outputs": [
    {
     "data": {
      "text/plain": [
       "Text(0.5, 1.0, 'Répartition des clients par date de naissance')"
      ]
     },
     "execution_count": 8,
     "metadata": {},
     "output_type": "execute_result"
    },
    {
     "data": {
      "image/png": "[encoded data removed]",
      "text/plain": [
       "<Figure size 1440x720 with 1 Axes>"
      ]
     },
     "metadata": {
      "needs_background": "light"
     },
     "output_type": "display_data"
    }
   ],
   "source": [
    "#répartition en fonction de l'année de naissance (beaucoup en 2004: mineurs)\n",
    "clientAge[\"effectif\"].plot(kind = 'bar',figsize=(20,10))\n",
    "plt.xlabel('Date de naissance', fontsize=20)\n",
    "plt.ylabel('Nombre de clients', fontsize=20)\n",
    "plt.title(\"Répartition des clients par date de naissance\")"
   ]
  },
  {
   "cell_type": "code",
   "execution_count": 9,
   "metadata": {},
   "outputs": [
    {
     "name": "stdout",
     "output_type": "stream",
     "text": [
      "1978.2808767250376\n",
      "0    2004\n",
      "dtype: int64\n",
      "1979.0\n",
      "43.71912327496231\n"
     ]
    }
   ],
   "source": [
    "#age tendance centrales\n",
    "print(clients['birth'].mean())\n",
    "print(clients['birth'].mode())\n",
    "print(clients['birth'].median())\n",
    "print(clients['age'].mean())\n"
   ]
  },
  {
   "cell_type": "code",
   "execution_count": 10,
   "metadata": {
    "scrolled": false
   },
   "outputs": [
    {
     "data": {
      "text/html": [
       "<div>\n",
       "<style scoped>\n",
       "    .dataframe tbody tr th:only-of-type {\n",
       "        vertical-align: middle;\n",
       "    }\n",
       "\n",
       "    .dataframe tbody tr th {\n",
       "        vertical-align: top;\n",
       "    }\n",
       "\n",
       "    .dataframe thead th {\n",
       "        text-align: right;\n",
       "    }\n",
       "</style>\n",
       "<table border=\"1\" class=\"dataframe\">\n",
       "  <thead>\n",
       "    <tr style=\"text-align: right;\">\n",
       "      <th></th>\n",
       "      <th></th>\n",
       "      <th>effectif</th>\n",
       "      <th>frequence</th>\n",
       "      <th>fq_cumul</th>\n",
       "    </tr>\n",
       "    <tr>\n",
       "      <th>classe_age</th>\n",
       "      <th>sex</th>\n",
       "      <th></th>\n",
       "      <th></th>\n",
       "      <th></th>\n",
       "    </tr>\n",
       "  </thead>\n",
       "  <tbody>\n",
       "    <tr>\n",
       "      <th rowspan=\"2\" valign=\"top\">20 et moins</th>\n",
       "      <th>f</th>\n",
       "      <td>297</td>\n",
       "      <td>0.034443</td>\n",
       "      <td>0.034443</td>\n",
       "    </tr>\n",
       "    <tr>\n",
       "      <th>m</th>\n",
       "      <td>289</td>\n",
       "      <td>0.033515</td>\n",
       "      <td>0.067958</td>\n",
       "    </tr>\n",
       "    <tr>\n",
       "      <th rowspan=\"2\" valign=\"top\">20-29</th>\n",
       "      <th>f</th>\n",
       "      <td>776</td>\n",
       "      <td>0.089992</td>\n",
       "      <td>0.157950</td>\n",
       "    </tr>\n",
       "    <tr>\n",
       "      <th>m</th>\n",
       "      <td>732</td>\n",
       "      <td>0.084889</td>\n",
       "      <td>0.242839</td>\n",
       "    </tr>\n",
       "    <tr>\n",
       "      <th rowspan=\"2\" valign=\"top\">30-39</th>\n",
       "      <th>f</th>\n",
       "      <td>845</td>\n",
       "      <td>0.097994</td>\n",
       "      <td>0.340833</td>\n",
       "    </tr>\n",
       "    <tr>\n",
       "      <th>m</th>\n",
       "      <td>802</td>\n",
       "      <td>0.093007</td>\n",
       "      <td>0.433840</td>\n",
       "    </tr>\n",
       "    <tr>\n",
       "      <th rowspan=\"2\" valign=\"top\">40-49</th>\n",
       "      <th>f</th>\n",
       "      <td>930</td>\n",
       "      <td>0.107851</td>\n",
       "      <td>0.541691</td>\n",
       "    </tr>\n",
       "    <tr>\n",
       "      <th>m</th>\n",
       "      <td>836</td>\n",
       "      <td>0.096950</td>\n",
       "      <td>0.638641</td>\n",
       "    </tr>\n",
       "    <tr>\n",
       "      <th rowspan=\"2\" valign=\"top\">50-59</th>\n",
       "      <th>f</th>\n",
       "      <td>752</td>\n",
       "      <td>0.087209</td>\n",
       "      <td>0.725849</td>\n",
       "    </tr>\n",
       "    <tr>\n",
       "      <th>m</th>\n",
       "      <td>701</td>\n",
       "      <td>0.081294</td>\n",
       "      <td>0.807144</td>\n",
       "    </tr>\n",
       "    <tr>\n",
       "      <th rowspan=\"2\" valign=\"top\">60-69</th>\n",
       "      <th>f</th>\n",
       "      <td>519</td>\n",
       "      <td>0.060188</td>\n",
       "      <td>0.867332</td>\n",
       "    </tr>\n",
       "    <tr>\n",
       "      <th>m</th>\n",
       "      <td>495</td>\n",
       "      <td>0.057405</td>\n",
       "      <td>0.924736</td>\n",
       "    </tr>\n",
       "    <tr>\n",
       "      <th rowspan=\"2\" valign=\"top\">70-79</th>\n",
       "      <th>f</th>\n",
       "      <td>245</td>\n",
       "      <td>0.028412</td>\n",
       "      <td>0.953149</td>\n",
       "    </tr>\n",
       "    <tr>\n",
       "      <th>m</th>\n",
       "      <td>191</td>\n",
       "      <td>0.022150</td>\n",
       "      <td>0.975299</td>\n",
       "    </tr>\n",
       "    <tr>\n",
       "      <th rowspan=\"2\" valign=\"top\">80 et plus</th>\n",
       "      <th>f</th>\n",
       "      <td>127</td>\n",
       "      <td>0.014728</td>\n",
       "      <td>0.990027</td>\n",
       "    </tr>\n",
       "    <tr>\n",
       "      <th>m</th>\n",
       "      <td>86</td>\n",
       "      <td>0.009973</td>\n",
       "      <td>1.000000</td>\n",
       "    </tr>\n",
       "  </tbody>\n",
       "</table>\n",
       "</div>"
      ],
      "text/plain": [
       "                 effectif  frequence  fq_cumul\n",
       "classe_age  sex                               \n",
       "20 et moins f         297   0.034443  0.034443\n",
       "            m         289   0.033515  0.067958\n",
       "20-29       f         776   0.089992  0.157950\n",
       "            m         732   0.084889  0.242839\n",
       "30-39       f         845   0.097994  0.340833\n",
       "            m         802   0.093007  0.433840\n",
       "40-49       f         930   0.107851  0.541691\n",
       "            m         836   0.096950  0.638641\n",
       "50-59       f         752   0.087209  0.725849\n",
       "            m         701   0.081294  0.807144\n",
       "60-69       f         519   0.060188  0.867332\n",
       "            m         495   0.057405  0.924736\n",
       "70-79       f         245   0.028412  0.953149\n",
       "            m         191   0.022150  0.975299\n",
       "80 et plus  f         127   0.014728  0.990027\n",
       "            m          86   0.009973  1.000000"
      ]
     },
     "execution_count": 10,
     "metadata": {},
     "output_type": "execute_result"
    }
   ],
   "source": [
    "# classe d'âge tableau représentation \n",
    "clientClasseAge = clients.groupby([\"classe_age\",'sex']).count()\n",
    "clientClasseAge = clientClasseAge[['client_id']]\n",
    "clientClasseAge.columns = ['effectif']\n",
    "clientClasseAge['frequence'] = clientClasseAge.effectif/len(clients)\n",
    "clientClasseAge['fq_cumul'] = clientClasseAge[\"frequence\"].cumsum()\n",
    "clientClasseAge"
   ]
  },
  {
   "cell_type": "code",
   "execution_count": 83,
   "metadata": {},
   "outputs": [
    {
     "data": {
      "text/plain": [
       "<matplotlib.legend.Legend at 0x12af179cc08>"
      ]
     },
     "execution_count": 83,
     "metadata": {},
     "output_type": "execute_result"
    },
    {
     "data": {
      "image/png": "[encoded data removed]",
      "text/plain": [
       "<Figure size 1440x720 with 1 Axes>"
      ]
     },
     "metadata": {
      "needs_background": "light"
     },
     "output_type": "display_data"
    }
   ],
   "source": [
    "graphClientClasseAge = clientClasseAge.pivot_table(index = 'classe_age', columns ='sex')\n",
    "graphClientClasseAge['effectif'].plot(kind = 'bar' ,stacked =True, figsize = (20,10),color = ['#3436AD',\"#AD1198\"])\n",
    "axes = plt.gca()\n",
    "plt.xlabel('Ages', fontsize=15, fontweight =\"heavy\" )\n",
    "plt.ylabel('Nombre de clients', fontsize=15,fontweight =\"heavy\" )\n",
    "plt.title(\"Répartition des clients par classe d'âge\", fontsize = 20)\n",
    "axes.yaxis.set_tick_params (labelsize =15)\n",
    "axes.xaxis.set_tick_params (labelsize =15)\n",
    "plt.legend ([\"Homme\",\"Femme\"],title= \"Sexe\")"
   ]
  },
  {
   "cell_type": "markdown",
   "metadata": {},
   "source": [
    "### Produits"
   ]
  },
  {
   "cell_type": "code",
   "execution_count": 12,
   "metadata": {},
   "outputs": [
    {
     "data": {
      "text/html": [
       "<div>\n",
       "<style scoped>\n",
       "    .dataframe tbody tr th:only-of-type {\n",
       "        vertical-align: middle;\n",
       "    }\n",
       "\n",
       "    .dataframe tbody tr th {\n",
       "        vertical-align: top;\n",
       "    }\n",
       "\n",
       "    .dataframe thead th {\n",
       "        text-align: right;\n",
       "    }\n",
       "</style>\n",
       "<table border=\"1\" class=\"dataframe\">\n",
       "  <thead>\n",
       "    <tr style=\"text-align: right;\">\n",
       "      <th></th>\n",
       "      <th>id_prod</th>\n",
       "      <th>price</th>\n",
       "      <th>categ</th>\n",
       "    </tr>\n",
       "  </thead>\n",
       "  <tbody>\n",
       "    <tr>\n",
       "      <th>0</th>\n",
       "      <td>0_1421</td>\n",
       "      <td>19.99</td>\n",
       "      <td>0</td>\n",
       "    </tr>\n",
       "    <tr>\n",
       "      <th>1</th>\n",
       "      <td>0_1368</td>\n",
       "      <td>5.13</td>\n",
       "      <td>0</td>\n",
       "    </tr>\n",
       "    <tr>\n",
       "      <th>2</th>\n",
       "      <td>0_731</td>\n",
       "      <td>17.99</td>\n",
       "      <td>0</td>\n",
       "    </tr>\n",
       "    <tr>\n",
       "      <th>3</th>\n",
       "      <td>1_587</td>\n",
       "      <td>4.99</td>\n",
       "      <td>1</td>\n",
       "    </tr>\n",
       "    <tr>\n",
       "      <th>4</th>\n",
       "      <td>0_1507</td>\n",
       "      <td>3.99</td>\n",
       "      <td>0</td>\n",
       "    </tr>\n",
       "  </tbody>\n",
       "</table>\n",
       "</div>"
      ],
      "text/plain": [
       "  id_prod  price  categ\n",
       "0  0_1421  19.99      0\n",
       "1  0_1368   5.13      0\n",
       "2   0_731  17.99      0\n",
       "3   1_587   4.99      1\n",
       "4  0_1507   3.99      0"
      ]
     },
     "execution_count": 12,
     "metadata": {},
     "output_type": "execute_result"
    }
   ],
   "source": [
    "produits.head()"
   ]
  },
  {
   "cell_type": "code",
   "execution_count": 13,
   "metadata": {},
   "outputs": [
    {
     "data": {
      "text/html": [
       "<div>\n",
       "<style scoped>\n",
       "    .dataframe tbody tr th:only-of-type {\n",
       "        vertical-align: middle;\n",
       "    }\n",
       "\n",
       "    .dataframe tbody tr th {\n",
       "        vertical-align: top;\n",
       "    }\n",
       "\n",
       "    .dataframe thead th {\n",
       "        text-align: right;\n",
       "    }\n",
       "</style>\n",
       "<table border=\"1\" class=\"dataframe\">\n",
       "  <thead>\n",
       "    <tr style=\"text-align: right;\">\n",
       "      <th></th>\n",
       "      <th>effectif</th>\n",
       "      <th>frequence</th>\n",
       "    </tr>\n",
       "    <tr>\n",
       "      <th>categ</th>\n",
       "      <th></th>\n",
       "      <th></th>\n",
       "    </tr>\n",
       "  </thead>\n",
       "  <tbody>\n",
       "    <tr>\n",
       "      <th>0</th>\n",
       "      <td>2310</td>\n",
       "      <td>0.702555</td>\n",
       "    </tr>\n",
       "    <tr>\n",
       "      <th>1</th>\n",
       "      <td>739</td>\n",
       "      <td>0.224757</td>\n",
       "    </tr>\n",
       "    <tr>\n",
       "      <th>2</th>\n",
       "      <td>239</td>\n",
       "      <td>0.072689</td>\n",
       "    </tr>\n",
       "  </tbody>\n",
       "</table>\n",
       "</div>"
      ],
      "text/plain": [
       "       effectif  frequence\n",
       "categ                     \n",
       "0          2310   0.702555\n",
       "1           739   0.224757\n",
       "2           239   0.072689"
      ]
     },
     "execution_count": 13,
     "metadata": {},
     "output_type": "execute_result"
    }
   ],
   "source": [
    "# categ tableau de représentation\n",
    "produitsCateg = produits.groupby('categ').count()\n",
    "produitsCateg = produitsCateg[[\"price\"]]\n",
    "produitsCateg.columns = ['effectif']\n",
    "produitsCateg['frequence'] = produitsCateg.effectif/len(produits)\n",
    "produitsCateg"
   ]
  },
  {
   "cell_type": "code",
   "execution_count": 14,
   "metadata": {},
   "outputs": [
    {
     "name": "stdout",
     "output_type": "stream",
     "text": [
      "21.853560608335677\n",
      "0    4.99\n",
      "dtype: float64\n",
      "13.055\n"
     ]
    }
   ],
   "source": [
    "# prix tendance centrale\n",
    "print(produits['price'].mean())\n",
    "print(produits['price'].mode())\n",
    "print(produits['price'].median())"
   ]
  },
  {
   "cell_type": "code",
   "execution_count": 15,
   "metadata": {},
   "outputs": [
    {
     "name": "stdout",
     "output_type": "stream",
     "text": [
      "--------------------\n",
      "0\n",
      "moy:\n",
      " 11.72728020788248\n",
      "med:\n",
      " 10.32\n",
      "var:\n",
      " 57.23646282238245\n",
      "std:\n",
      " 7.56547836044638\n",
      "skw:\n",
      " 0.837664674212988\n",
      "kur:\n",
      " 0.3330790524996483\n"
     ]
    },
    {
     "data": {
      "image/png": "[encoded data removed]",
      "text/plain": [
       "<Figure size 432x288 with 1 Axes>"
      ]
     },
     "metadata": {
      "needs_background": "light"
     },
     "output_type": "display_data"
    },
    {
     "data": {
      "image/png": "[encoded data removed]",
      "text/plain": [
       "<Figure size 432x288 with 1 Axes>"
      ]
     },
     "metadata": {
      "needs_background": "light"
     },
     "output_type": "display_data"
    },
    {
     "name": "stdout",
     "output_type": "stream",
     "text": [
      "--------------------\n",
      "1\n",
      "moy:\n",
      " 25.531420838971624\n",
      "med:\n",
      " 22.99\n",
      "var:\n",
      " 237.61364304211\n",
      "std:\n",
      " 15.414721633623813\n",
      "skw:\n",
      " 0.8120109621070365\n",
      "kur:\n",
      " 0.2993533794236898\n"
     ]
    },
    {
     "data": {
      "image/png": "[encoded data removed]",
      "text/plain": [
       "<Figure size 432x288 with 1 Axes>"
      ]
     },
     "metadata": {
      "needs_background": "light"
     },
     "output_type": "display_data"
    },
    {
     "data": {
      "image/png": "[encoded data removed]",
      "text/plain": [
       "<Figure size 432x288 with 1 Axes>"
      ]
     },
     "metadata": {
      "needs_background": "light"
     },
     "output_type": "display_data"
    },
    {
     "name": "stdout",
     "output_type": "stream",
     "text": [
      "--------------------\n",
      "2\n",
      "moy:\n",
      " 108.35468619246883\n",
      "med:\n",
      " 101.99\n",
      "var:\n",
      " 2446.0578977048704\n",
      "std:\n",
      " 49.45763740520639\n",
      "skw:\n",
      " 0.9310209579538592\n",
      "kur:\n",
      " 0.808968484300689\n"
     ]
    },
    {
     "data": {
      "image/png": "[encoded data removed]",
      "text/plain": [
       "<Figure size 432x288 with 1 Axes>"
      ]
     },
     "metadata": {
      "needs_background": "light"
     },
     "output_type": "display_data"
    },
    {
     "data": {
      "image/png": "[encoded data removed]",
      "text/plain": [
       "<Figure size 432x288 with 1 Axes>"
      ]
     },
     "metadata": {
      "needs_background": "light"
     },
     "output_type": "display_data"
    }
   ],
   "source": [
    "# analyse par catégorie \n",
    "for cat in produits[\"categ\"].unique():\n",
    "    sous_echantillon = produits[produits.categ == cat]\n",
    "    print(\"-\"*20)\n",
    "    print(cat)\n",
    "    print(\"moy:\\n\",sous_echantillon['price'].mean())\n",
    "    print(\"med:\\n\",sous_echantillon['price'].median())\n",
    "    print(\"var:\\n\",sous_echantillon['price'].var(ddof=0))\n",
    "    print(\"std:\\n\",sous_echantillon['price'].std(ddof=0))\n",
    "    print(\"skw:\\n\",sous_echantillon['price'].skew())\n",
    "    print(\"kur:\\n\",sous_echantillon['price'].kurtosis())\n",
    "    sous_echantillon[\"price\"].hist() # Crée l'histogramme\n",
    "    plt.show() # Affiche l'histogramme\n",
    "    sous_echantillon.boxplot(column=\"price\", vert=False)\n",
    "    plt.show()"
   ]
  },
  {
   "cell_type": "code",
   "execution_count": 85,
   "metadata": {},
   "outputs": [
    {
     "data": {
      "image/png": "[encoded data removed]",
      "text/plain": [
       "<Figure size 1080x720 with 1 Axes>"
      ]
     },
     "metadata": {
      "needs_background": "light"
     },
     "output_type": "display_data"
    }
   ],
   "source": [
    "#Distribution des produits \n",
    "plt.figure(figsize = (15,10))\n",
    "axes = plt.gca()\n",
    "sns.distplot( produits[produits[\"categ\"]== 0]['price'] , color=\"#D1CE5E\", label=\"Cat 0\",hist=True, kde=False, rug=False )\n",
    "sns.distplot( produits[produits[\"categ\"]== 1]['price'] , color=\"#D14A53\", label=\"Cat 1\",hist=True, kde=False, rug=False)\n",
    "sns.distplot( produits[produits[\"categ\"]== 2]['price'] , color=\"#349AD1\", label=\"Cat 2\",hist=True, kde=False, rug=False)\n",
    "plt.legend(title = \"produits\")\n",
    "plt.xlabel('Prix', fontsize=15, fontweight='heavy')\n",
    "plt.ylabel('Nombre de produits', fontsize=15, fontweight='heavy')\n",
    "axes.yaxis.set_tick_params (labelsize =15)\n",
    "axes.xaxis.set_tick_params (labelsize =15)\n",
    "plt.title(\"Distributions des produits par catégorie\", fontsize = 20)\n",
    "plt.show()"
   ]
  },
  {
   "cell_type": "markdown",
   "metadata": {},
   "source": [
    "# Ventes\n",
    "- nb d'achats (visites, un ou plusieurs porudits)\n",
    "    - mois\n",
    "    - clients \n",
    "    \n",
    "- concentration achats clients \n",
    "    "
   ]
  },
  {
   "cell_type": "code",
   "execution_count": 17,
   "metadata": {
    "scrolled": false
   },
   "outputs": [
    {
     "data": {
      "text/html": [
       "<div>\n",
       "<style scoped>\n",
       "    .dataframe tbody tr th:only-of-type {\n",
       "        vertical-align: middle;\n",
       "    }\n",
       "\n",
       "    .dataframe tbody tr th {\n",
       "        vertical-align: top;\n",
       "    }\n",
       "\n",
       "    .dataframe thead th {\n",
       "        text-align: right;\n",
       "    }\n",
       "</style>\n",
       "<table border=\"1\" class=\"dataframe\">\n",
       "  <thead>\n",
       "    <tr style=\"text-align: right;\">\n",
       "      <th></th>\n",
       "      <th>id_prod</th>\n",
       "      <th>dates</th>\n",
       "      <th>session_id</th>\n",
       "      <th>client_id</th>\n",
       "    </tr>\n",
       "  </thead>\n",
       "  <tbody>\n",
       "    <tr>\n",
       "      <th>count</th>\n",
       "      <td>336816</td>\n",
       "      <td>336816</td>\n",
       "      <td>336816</td>\n",
       "      <td>336816</td>\n",
       "    </tr>\n",
       "    <tr>\n",
       "      <th>unique</th>\n",
       "      <td>3265</td>\n",
       "      <td>336816</td>\n",
       "      <td>169194</td>\n",
       "      <td>8600</td>\n",
       "    </tr>\n",
       "    <tr>\n",
       "      <th>top</th>\n",
       "      <td>1_369</td>\n",
       "      <td>2021-06-30 11:35:55.387896</td>\n",
       "      <td>s_118668</td>\n",
       "      <td>c_1609</td>\n",
       "    </tr>\n",
       "    <tr>\n",
       "      <th>freq</th>\n",
       "      <td>1081</td>\n",
       "      <td>1</td>\n",
       "      <td>14</td>\n",
       "      <td>12855</td>\n",
       "    </tr>\n",
       "    <tr>\n",
       "      <th>first</th>\n",
       "      <td>NaN</td>\n",
       "      <td>2021-03-01 00:01:07.843138</td>\n",
       "      <td>NaN</td>\n",
       "      <td>NaN</td>\n",
       "    </tr>\n",
       "    <tr>\n",
       "      <th>last</th>\n",
       "      <td>NaN</td>\n",
       "      <td>2022-02-28 23:59:58.040472</td>\n",
       "      <td>NaN</td>\n",
       "      <td>NaN</td>\n",
       "    </tr>\n",
       "  </tbody>\n",
       "</table>\n",
       "</div>"
      ],
      "text/plain": [
       "       id_prod                       dates session_id client_id\n",
       "count   336816                      336816     336816    336816\n",
       "unique    3265                      336816     169194      8600\n",
       "top      1_369  2021-06-30 11:35:55.387896   s_118668    c_1609\n",
       "freq      1081                           1         14     12855\n",
       "first      NaN  2021-03-01 00:01:07.843138        NaN       NaN\n",
       "last       NaN  2022-02-28 23:59:58.040472        NaN       NaN"
      ]
     },
     "execution_count": 17,
     "metadata": {},
     "output_type": "execute_result"
    }
   ],
   "source": [
    "ventes.describe()"
   ]
  },
  {
   "cell_type": "code",
   "execution_count": 18,
   "metadata": {
    "scrolled": true
   },
   "outputs": [
    {
     "data": {
      "text/plain": [
       "<matplotlib.axes._subplots.AxesSubplot at 0x12ae6948c48>"
      ]
     },
     "execution_count": 18,
     "metadata": {},
     "output_type": "execute_result"
    },
    {
     "data": {
      "image/png": "[encoded data removed]",
      "text/plain": [
       "<Figure size 432x288 with 1 Axes>"
      ]
     },
     "metadata": {
      "needs_background": "light"
     },
     "output_type": "display_data"
    }
   ],
   "source": [
    "#nb visites par mois \n",
    "visites = ventes.drop_duplicates(\"session_id\")\n",
    "visitesMois = visites.groupby(pd.Grouper(key = 'dates', freq = 'M')).count()\n",
    "visitesMois['session_id'].plot(kind = 'bar')"
   ]
  },
  {
   "cell_type": "code",
   "execution_count": 19,
   "metadata": {
    "scrolled": true
   },
   "outputs": [
    {
     "data": {
      "text/html": [
       "<div>\n",
       "<style scoped>\n",
       "    .dataframe tbody tr th:only-of-type {\n",
       "        vertical-align: middle;\n",
       "    }\n",
       "\n",
       "    .dataframe tbody tr th {\n",
       "        vertical-align: top;\n",
       "    }\n",
       "\n",
       "    .dataframe thead th {\n",
       "        text-align: right;\n",
       "    }\n",
       "</style>\n",
       "<table border=\"1\" class=\"dataframe\">\n",
       "  <thead>\n",
       "    <tr style=\"text-align: right;\">\n",
       "      <th></th>\n",
       "      <th>id_prod</th>\n",
       "      <th>dates</th>\n",
       "      <th>session_id</th>\n",
       "    </tr>\n",
       "    <tr>\n",
       "      <th>client_id</th>\n",
       "      <th></th>\n",
       "      <th></th>\n",
       "      <th></th>\n",
       "    </tr>\n",
       "  </thead>\n",
       "  <tbody>\n",
       "    <tr>\n",
       "      <th>c_4540</th>\n",
       "      <td>1</td>\n",
       "      <td>1</td>\n",
       "      <td>1</td>\n",
       "    </tr>\n",
       "    <tr>\n",
       "      <th>c_2269</th>\n",
       "      <td>1</td>\n",
       "      <td>1</td>\n",
       "      <td>1</td>\n",
       "    </tr>\n",
       "    <tr>\n",
       "      <th>c_6247</th>\n",
       "      <td>1</td>\n",
       "      <td>1</td>\n",
       "      <td>1</td>\n",
       "    </tr>\n",
       "    <tr>\n",
       "      <th>c_6286</th>\n",
       "      <td>1</td>\n",
       "      <td>1</td>\n",
       "      <td>1</td>\n",
       "    </tr>\n",
       "    <tr>\n",
       "      <th>c_2896</th>\n",
       "      <td>1</td>\n",
       "      <td>1</td>\n",
       "      <td>1</td>\n",
       "    </tr>\n",
       "    <tr>\n",
       "      <th>...</th>\n",
       "      <td>...</td>\n",
       "      <td>...</td>\n",
       "      <td>...</td>\n",
       "    </tr>\n",
       "    <tr>\n",
       "      <th>c_682</th>\n",
       "      <td>84</td>\n",
       "      <td>84</td>\n",
       "      <td>84</td>\n",
       "    </tr>\n",
       "    <tr>\n",
       "      <th>c_6714</th>\n",
       "      <td>1286</td>\n",
       "      <td>1286</td>\n",
       "      <td>1286</td>\n",
       "    </tr>\n",
       "    <tr>\n",
       "      <th>c_4958</th>\n",
       "      <td>1888</td>\n",
       "      <td>1888</td>\n",
       "      <td>1888</td>\n",
       "    </tr>\n",
       "    <tr>\n",
       "      <th>c_3454</th>\n",
       "      <td>2711</td>\n",
       "      <td>2711</td>\n",
       "      <td>2711</td>\n",
       "    </tr>\n",
       "    <tr>\n",
       "      <th>c_1609</th>\n",
       "      <td>5501</td>\n",
       "      <td>5501</td>\n",
       "      <td>5501</td>\n",
       "    </tr>\n",
       "  </tbody>\n",
       "</table>\n",
       "<p>8600 rows × 3 columns</p>\n",
       "</div>"
      ],
      "text/plain": [
       "           id_prod  dates  session_id\n",
       "client_id                            \n",
       "c_4540           1      1           1\n",
       "c_2269           1      1           1\n",
       "c_6247           1      1           1\n",
       "c_6286           1      1           1\n",
       "c_2896           1      1           1\n",
       "...            ...    ...         ...\n",
       "c_682           84     84          84\n",
       "c_6714        1286   1286        1286\n",
       "c_4958        1888   1888        1888\n",
       "c_3454        2711   2711        2711\n",
       "c_1609        5501   5501        5501\n",
       "\n",
       "[8600 rows x 3 columns]"
      ]
     },
     "execution_count": 19,
     "metadata": {},
     "output_type": "execute_result"
    }
   ],
   "source": [
    "#nb visites par clients \n",
    "visitesClients = visites.groupby('client_id').count()\n",
    "visitesClients = visitesClients.sort_values('id_prod')\n",
    "visitesClients"
   ]
  },
  {
   "cell_type": "code",
   "execution_count": 86,
   "metadata": {
    "scrolled": false
   },
   "outputs": [
    {
     "data": {
      "image/png": "[encoded data removed]",
      "text/plain": [
       "<Figure size 1080x720 with 1 Axes>"
      ]
     },
     "metadata": {
      "needs_background": "light"
     },
     "output_type": "display_data"
    }
   ],
   "source": [
    "#fréquence transactions clients (concentration lorenz)\n",
    "nbVisiste = visitesClients['id_prod'].values\n",
    "lorenzVi = np.cumsum(np.sort(nbVisiste)) / nbVisiste.sum()\n",
    "lorenzVi = np.append([0],lorenzVi) # La courbe de Lorenz commence à 0\n",
    "\n",
    "plt.figure(figsize =(15,10))\n",
    "axes = plt.gca()\n",
    "plt.plot(np.linspace(0,1,len(lorenzVi)),lorenzVi,drawstyle='steps-post')\n",
    "plt.grid()\n",
    "plt.xlabel(\"Clients\", fontsize=15, fontweight = 'heavy')\n",
    "plt.ylabel(\"Panier\", fontsize=15, fontweight = 'heavy')\n",
    "axes.yaxis.set_tick_params (labelsize =15)\n",
    "axes.xaxis.set_tick_params (labelsize =15)\n",
    "plt.title(\"Indice de concentration \\n Nombre de panier en 1 an\", fontsize = 20)\n",
    "\n",
    "plt.show()\n"
   ]
  },
  {
   "cell_type": "code",
   "execution_count": 21,
   "metadata": {
    "scrolled": true
   },
   "outputs": [
    {
     "data": {
      "text/plain": [
       "0.470019568502159"
      ]
     },
     "execution_count": 21,
     "metadata": {},
     "output_type": "execute_result"
    }
   ],
   "source": [
    "# gini nb panier par client\n",
    "aire_ss_courbeVi = lorenzVi[:-1].sum()/len(lorenzVi) # aire sous la courbe de Lorenz. La dernière valeur ne participe pas à l'aire, d'où \"[:-1]\"\n",
    "S = 0.5 - aire_ss_courbeVi # aire entre la 1e bissectrice et la courbe de Lorenz\n",
    "gini = 2*S\n",
    "gini"
   ]
  },
  {
   "cell_type": "code",
   "execution_count": 22,
   "metadata": {},
   "outputs": [
    {
     "name": "stdout",
     "output_type": "stream",
     "text": [
      "moy: nb_panier    19.673721\n",
      "dtype: float64\n",
      "var: nb_panier    5160.592379\n",
      "dtype: float64\n",
      "ET: nb_panier    71.837263\n",
      "dtype: float64\n"
     ]
    }
   ],
   "source": [
    "#moyenne écartype et variance avec gros clients \n",
    "visitesClientsB = visitesClients[['id_prod']]\n",
    "visitesClientsB.columns =[\"nb_panier\"]\n",
    "print ('moy:', visitesClientsB.mean())\n",
    "print ('var:', visitesClientsB.var(ddof=0))\n",
    "print ('ET:', visitesClientsB.std(ddof=0))"
   ]
  },
  {
   "cell_type": "code",
   "execution_count": 23,
   "metadata": {},
   "outputs": [
    {
     "data": {
      "text/html": [
       "<div>\n",
       "<style scoped>\n",
       "    .dataframe tbody tr th:only-of-type {\n",
       "        vertical-align: middle;\n",
       "    }\n",
       "\n",
       "    .dataframe tbody tr th {\n",
       "        vertical-align: top;\n",
       "    }\n",
       "\n",
       "    .dataframe thead th {\n",
       "        text-align: right;\n",
       "    }\n",
       "</style>\n",
       "<table border=\"1\" class=\"dataframe\">\n",
       "  <thead>\n",
       "    <tr style=\"text-align: right;\">\n",
       "      <th></th>\n",
       "      <th>nb_panier</th>\n",
       "    </tr>\n",
       "    <tr>\n",
       "      <th>client_id</th>\n",
       "      <th></th>\n",
       "    </tr>\n",
       "  </thead>\n",
       "  <tbody>\n",
       "    <tr>\n",
       "      <th>c_1609</th>\n",
       "      <td>5501</td>\n",
       "    </tr>\n",
       "    <tr>\n",
       "      <th>c_3454</th>\n",
       "      <td>2711</td>\n",
       "    </tr>\n",
       "    <tr>\n",
       "      <th>c_4958</th>\n",
       "      <td>1888</td>\n",
       "    </tr>\n",
       "    <tr>\n",
       "      <th>c_6714</th>\n",
       "      <td>1286</td>\n",
       "    </tr>\n",
       "    <tr>\n",
       "      <th>c_682</th>\n",
       "      <td>84</td>\n",
       "    </tr>\n",
       "    <tr>\n",
       "      <th>c_8392</th>\n",
       "      <td>79</td>\n",
       "    </tr>\n",
       "  </tbody>\n",
       "</table>\n",
       "</div>"
      ],
      "text/plain": [
       "           nb_panier\n",
       "client_id           \n",
       "c_1609          5501\n",
       "c_3454          2711\n",
       "c_4958          1888\n",
       "c_6714          1286\n",
       "c_682             84\n",
       "c_8392            79"
      ]
     },
     "execution_count": 23,
     "metadata": {},
     "output_type": "execute_result"
    }
   ],
   "source": [
    "visitesClientsB.nlargest(6, 'nb_panier')"
   ]
  },
  {
   "cell_type": "code",
   "execution_count": 24,
   "metadata": {},
   "outputs": [
    {
     "name": "stdout",
     "output_type": "stream",
     "text": [
      "moy: nb_panier    18.358306\n",
      "dtype: float64\n",
      "var: nb_panier    230.784134\n",
      "dtype: float64\n",
      "ET: nb_panier    15.191581\n",
      "dtype: float64\n"
     ]
    }
   ],
   "source": [
    "#moyenne écartype et variance sans gros clients \n",
    "visitesClientsC = visitesClientsB[visitesClientsB['nb_panier']<=1000]\n",
    "print ('moy:', visitesClientsC.mean())\n",
    "print ('var:', visitesClientsC.var(ddof=0))\n",
    "print ('ET:', visitesClientsC.std(ddof=0))"
   ]
  },
  {
   "cell_type": "markdown",
   "metadata": {},
   "source": [
    "# Corrélations "
   ]
  },
  {
   "cell_type": "code",
   "execution_count": 25,
   "metadata": {},
   "outputs": [
    {
     "data": {
      "text/html": [
       "<div>\n",
       "<style scoped>\n",
       "    .dataframe tbody tr th:only-of-type {\n",
       "        vertical-align: middle;\n",
       "    }\n",
       "\n",
       "    .dataframe tbody tr th {\n",
       "        vertical-align: top;\n",
       "    }\n",
       "\n",
       "    .dataframe thead th {\n",
       "        text-align: right;\n",
       "    }\n",
       "</style>\n",
       "<table border=\"1\" class=\"dataframe\">\n",
       "  <thead>\n",
       "    <tr style=\"text-align: right;\">\n",
       "      <th></th>\n",
       "      <th>id_prod</th>\n",
       "      <th>dates</th>\n",
       "      <th>session_id</th>\n",
       "      <th>client_id</th>\n",
       "      <th>sex</th>\n",
       "      <th>birth</th>\n",
       "      <th>age</th>\n",
       "      <th>classe_age</th>\n",
       "      <th>price</th>\n",
       "      <th>categ</th>\n",
       "    </tr>\n",
       "  </thead>\n",
       "  <tbody>\n",
       "    <tr>\n",
       "      <th>240516</th>\n",
       "      <td>0_1259</td>\n",
       "      <td>2021-03-01 00:01:07.843138</td>\n",
       "      <td>s_1</td>\n",
       "      <td>c_329</td>\n",
       "      <td>f</td>\n",
       "      <td>1967</td>\n",
       "      <td>55</td>\n",
       "      <td>50-59</td>\n",
       "      <td>11.99</td>\n",
       "      <td>0</td>\n",
       "    </tr>\n",
       "    <tr>\n",
       "      <th>236766</th>\n",
       "      <td>0_1390</td>\n",
       "      <td>2021-03-01 00:02:26.047414</td>\n",
       "      <td>s_2</td>\n",
       "      <td>c_664</td>\n",
       "      <td>m</td>\n",
       "      <td>1960</td>\n",
       "      <td>62</td>\n",
       "      <td>60-69</td>\n",
       "      <td>19.37</td>\n",
       "      <td>0</td>\n",
       "    </tr>\n",
       "    <tr>\n",
       "      <th>167448</th>\n",
       "      <td>0_1352</td>\n",
       "      <td>2021-03-01 00:02:38.311413</td>\n",
       "      <td>s_3</td>\n",
       "      <td>c_580</td>\n",
       "      <td>m</td>\n",
       "      <td>1988</td>\n",
       "      <td>34</td>\n",
       "      <td>30-39</td>\n",
       "      <td>4.50</td>\n",
       "      <td>0</td>\n",
       "    </tr>\n",
       "    <tr>\n",
       "      <th>43483</th>\n",
       "      <td>0_1458</td>\n",
       "      <td>2021-03-01 00:04:54.559692</td>\n",
       "      <td>s_4</td>\n",
       "      <td>c_7912</td>\n",
       "      <td>f</td>\n",
       "      <td>1989</td>\n",
       "      <td>33</td>\n",
       "      <td>30-39</td>\n",
       "      <td>6.55</td>\n",
       "      <td>0</td>\n",
       "    </tr>\n",
       "    <tr>\n",
       "      <th>112567</th>\n",
       "      <td>0_1358</td>\n",
       "      <td>2021-03-01 00:05:18.801198</td>\n",
       "      <td>s_5</td>\n",
       "      <td>c_2033</td>\n",
       "      <td>f</td>\n",
       "      <td>1956</td>\n",
       "      <td>66</td>\n",
       "      <td>60-69</td>\n",
       "      <td>16.49</td>\n",
       "      <td>0</td>\n",
       "    </tr>\n",
       "    <tr>\n",
       "      <th>...</th>\n",
       "      <td>...</td>\n",
       "      <td>...</td>\n",
       "      <td>...</td>\n",
       "      <td>...</td>\n",
       "      <td>...</td>\n",
       "      <td>...</td>\n",
       "      <td>...</td>\n",
       "      <td>...</td>\n",
       "      <td>...</td>\n",
       "      <td>...</td>\n",
       "    </tr>\n",
       "    <tr>\n",
       "      <th>128549</th>\n",
       "      <td>1_456</td>\n",
       "      <td>2022-02-28 23:56:57.196281</td>\n",
       "      <td>s_172422</td>\n",
       "      <td>c_5787</td>\n",
       "      <td>f</td>\n",
       "      <td>1986</td>\n",
       "      <td>36</td>\n",
       "      <td>30-39</td>\n",
       "      <td>28.27</td>\n",
       "      <td>1</td>\n",
       "    </tr>\n",
       "    <tr>\n",
       "      <th>40387</th>\n",
       "      <td>1_370</td>\n",
       "      <td>2022-02-28 23:56:57.561424</td>\n",
       "      <td>s_172423</td>\n",
       "      <td>c_1460</td>\n",
       "      <td>m</td>\n",
       "      <td>1989</td>\n",
       "      <td>33</td>\n",
       "      <td>30-39</td>\n",
       "      <td>13.11</td>\n",
       "      <td>1</td>\n",
       "    </tr>\n",
       "    <tr>\n",
       "      <th>190947</th>\n",
       "      <td>0_1538</td>\n",
       "      <td>2022-02-28 23:57:12.741573</td>\n",
       "      <td>s_172424</td>\n",
       "      <td>c_1876</td>\n",
       "      <td>m</td>\n",
       "      <td>1983</td>\n",
       "      <td>39</td>\n",
       "      <td>30-39</td>\n",
       "      <td>8.61</td>\n",
       "      <td>0</td>\n",
       "    </tr>\n",
       "    <tr>\n",
       "      <th>224768</th>\n",
       "      <td>0_1403</td>\n",
       "      <td>2022-02-28 23:59:02.381670</td>\n",
       "      <td>s_172423</td>\n",
       "      <td>c_1460</td>\n",
       "      <td>m</td>\n",
       "      <td>1989</td>\n",
       "      <td>33</td>\n",
       "      <td>30-39</td>\n",
       "      <td>15.99</td>\n",
       "      <td>0</td>\n",
       "    </tr>\n",
       "    <tr>\n",
       "      <th>276563</th>\n",
       "      <td>0_1775</td>\n",
       "      <td>2022-02-28 23:59:58.040472</td>\n",
       "      <td>s_172423</td>\n",
       "      <td>c_1460</td>\n",
       "      <td>m</td>\n",
       "      <td>1989</td>\n",
       "      <td>33</td>\n",
       "      <td>30-39</td>\n",
       "      <td>6.99</td>\n",
       "      <td>0</td>\n",
       "    </tr>\n",
       "  </tbody>\n",
       "</table>\n",
       "<p>336816 rows × 10 columns</p>\n",
       "</div>"
      ],
      "text/plain": [
       "       id_prod                      dates session_id client_id sex  birth  \\\n",
       "240516  0_1259 2021-03-01 00:01:07.843138        s_1     c_329   f   1967   \n",
       "236766  0_1390 2021-03-01 00:02:26.047414        s_2     c_664   m   1960   \n",
       "167448  0_1352 2021-03-01 00:02:38.311413        s_3     c_580   m   1988   \n",
       "43483   0_1458 2021-03-01 00:04:54.559692        s_4    c_7912   f   1989   \n",
       "112567  0_1358 2021-03-01 00:05:18.801198        s_5    c_2033   f   1956   \n",
       "...        ...                        ...        ...       ...  ..    ...   \n",
       "128549   1_456 2022-02-28 23:56:57.196281   s_172422    c_5787   f   1986   \n",
       "40387    1_370 2022-02-28 23:56:57.561424   s_172423    c_1460   m   1989   \n",
       "190947  0_1538 2022-02-28 23:57:12.741573   s_172424    c_1876   m   1983   \n",
       "224768  0_1403 2022-02-28 23:59:02.381670   s_172423    c_1460   m   1989   \n",
       "276563  0_1775 2022-02-28 23:59:58.040472   s_172423    c_1460   m   1989   \n",
       "\n",
       "        age classe_age  price  categ  \n",
       "240516   55      50-59  11.99      0  \n",
       "236766   62      60-69  19.37      0  \n",
       "167448   34      30-39   4.50      0  \n",
       "43483    33      30-39   6.55      0  \n",
       "112567   66      60-69  16.49      0  \n",
       "...     ...        ...    ...    ...  \n",
       "128549   36      30-39  28.27      1  \n",
       "40387    33      30-39  13.11      1  \n",
       "190947   39      30-39   8.61      0  \n",
       "224768   33      30-39  15.99      0  \n",
       "276563   33      30-39   6.99      0  \n",
       "\n",
       "[336816 rows x 10 columns]"
      ]
     },
     "execution_count": 25,
     "metadata": {},
     "output_type": "execute_result"
    }
   ],
   "source": [
    "#jointure naturelle des datas \n",
    "ventesClients = pd.merge(ventes,clients, on = \"client_id\")\n",
    "ventesClientsProduits = pd.merge (ventesClients, produits, on ='id_prod')\n",
    "ventesClientsProduits.sort_values(\"dates\")"
   ]
  },
  {
   "cell_type": "markdown",
   "metadata": {},
   "source": [
    "### Correléation sexe et catégorie achetée"
   ]
  },
  {
   "cell_type": "code",
   "execution_count": 26,
   "metadata": {},
   "outputs": [],
   "source": [
    "sexeCateg = ventesClientsProduits[['sex','categ']]"
   ]
  },
  {
   "cell_type": "code",
   "execution_count": 27,
   "metadata": {
    "scrolled": true
   },
   "outputs": [
    {
     "data": {
      "text/html": [
       "<div>\n",
       "<style scoped>\n",
       "    .dataframe tbody tr th:only-of-type {\n",
       "        vertical-align: middle;\n",
       "    }\n",
       "\n",
       "    .dataframe tbody tr th {\n",
       "        vertical-align: top;\n",
       "    }\n",
       "\n",
       "    .dataframe thead th {\n",
       "        text-align: right;\n",
       "    }\n",
       "</style>\n",
       "<table border=\"1\" class=\"dataframe\">\n",
       "  <thead>\n",
       "    <tr style=\"text-align: right;\">\n",
       "      <th>sex</th>\n",
       "      <th>f</th>\n",
       "      <th>m</th>\n",
       "      <th>Total</th>\n",
       "    </tr>\n",
       "    <tr>\n",
       "      <th>categ</th>\n",
       "      <th></th>\n",
       "      <th></th>\n",
       "      <th></th>\n",
       "    </tr>\n",
       "  </thead>\n",
       "  <tbody>\n",
       "    <tr>\n",
       "      <th>0</th>\n",
       "      <td>103846.0</td>\n",
       "      <td>105683.0</td>\n",
       "      <td>209529.0</td>\n",
       "    </tr>\n",
       "    <tr>\n",
       "      <th>1</th>\n",
       "      <td>55469.0</td>\n",
       "      <td>54266.0</td>\n",
       "      <td>109735.0</td>\n",
       "    </tr>\n",
       "    <tr>\n",
       "      <th>2</th>\n",
       "      <td>8260.0</td>\n",
       "      <td>9292.0</td>\n",
       "      <td>17552.0</td>\n",
       "    </tr>\n",
       "    <tr>\n",
       "      <th>total</th>\n",
       "      <td>167575.0</td>\n",
       "      <td>169241.0</td>\n",
       "      <td>336816.0</td>\n",
       "    </tr>\n",
       "  </tbody>\n",
       "</table>\n",
       "</div>"
      ],
      "text/plain": [
       "sex           f         m     Total\n",
       "categ                              \n",
       "0      103846.0  105683.0  209529.0\n",
       "1       55469.0   54266.0  109735.0\n",
       "2        8260.0    9292.0   17552.0\n",
       "total  167575.0  169241.0  336816.0"
      ]
     },
     "execution_count": 27,
     "metadata": {},
     "output_type": "execute_result"
    }
   ],
   "source": [
    "# Tableau de contingence (2 variables quali)\n",
    "X = \"categ\"\n",
    "Y = \"sex\"\n",
    "c = sexeCateg[[X,Y]].pivot_table(index=X,columns=Y,aggfunc=len)\n",
    "cont = c.copy()\n",
    "\n",
    "tx = sexeCateg[X].value_counts()\n",
    "ty = sexeCateg[Y].value_counts()\n",
    "\n",
    "cont.loc[:,\"Total\"] = tx\n",
    "cont.loc[\"total\",:] = ty\n",
    "cont.loc[\"total\",\"Total\"] = len(sexeCateg)\n",
    "cont"
   ]
  },
  {
   "cell_type": "code",
   "execution_count": 92,
   "metadata": {},
   "outputs": [
    {
     "data": {
      "image/png": "[encoded data removed]",
      "text/plain": [
       "<Figure size 1080x720 with 2 Axes>"
      ]
     },
     "metadata": {
      "needs_background": "light"
     },
     "output_type": "display_data"
    }
   ],
   "source": [
    "# Tableau de contingence (2 variables quali)\n",
    "plt.figure (figsize =(15,10))\n",
    "tx = pd.DataFrame(tx)\n",
    "ty = pd.DataFrame(ty)\n",
    "tx.columns = [\"foo\"]\n",
    "ty.columns = [\"foo\"]\n",
    "n = len(sexeCateg)\n",
    "indep = tx.dot(ty.T) / n\n",
    "\n",
    "c = c.fillna(0) # on remplace les valeurs nulles par des 0\n",
    "mesure = (c-indep)**2/indep\n",
    "xi_n = mesure.sum().sum()\n",
    "sns.heatmap(mesure/xi_n,annot=c)\n",
    "\n",
    "axes = plt.gca()\n",
    "plt.xlabel('Sexe', fontsize= 15, fontweight = 'heavy')\n",
    "plt.ylabel('Catégories', fontsize=15, fontweight = 'heavy')\n",
    "axes.yaxis.set_tick_params (labelsize =15)\n",
    "axes.xaxis.set_tick_params (labelsize =15)\n",
    "plt.suptitle(\"Heat map de significativité \\n Catégorie de produits par rapport au sexe\",ha = 'center',fontsize = 20) \n",
    "plt.show()"
   ]
  },
  {
   "cell_type": "markdown",
   "metadata": {},
   "source": [
    "# corrélations ages\n",
    "- montant des achats (2 quanti)\n",
    "- fréquence des achats (2 quanti)\n",
    "- Taille du panier (2 quanti)\n",
    "- catégorie acheté (1 quanti 1 quali)"
   ]
  },
  {
   "cell_type": "code",
   "execution_count": 29,
   "metadata": {},
   "outputs": [
    {
     "data": {
      "text/html": [
       "<div>\n",
       "<style scoped>\n",
       "    .dataframe tbody tr th:only-of-type {\n",
       "        vertical-align: middle;\n",
       "    }\n",
       "\n",
       "    .dataframe tbody tr th {\n",
       "        vertical-align: top;\n",
       "    }\n",
       "\n",
       "    .dataframe thead th {\n",
       "        text-align: right;\n",
       "    }\n",
       "</style>\n",
       "<table border=\"1\" class=\"dataframe\">\n",
       "  <thead>\n",
       "    <tr style=\"text-align: right;\">\n",
       "      <th></th>\n",
       "      <th>id_prod</th>\n",
       "      <th>dates</th>\n",
       "      <th>session_id</th>\n",
       "      <th>client_id</th>\n",
       "    </tr>\n",
       "  </thead>\n",
       "  <tbody>\n",
       "    <tr>\n",
       "      <th>176486</th>\n",
       "      <td>0_1259</td>\n",
       "      <td>2021-03-01 00:01:07.843138</td>\n",
       "      <td>s_1</td>\n",
       "      <td>c_329</td>\n",
       "    </tr>\n",
       "    <tr>\n",
       "      <th>309361</th>\n",
       "      <td>1_635</td>\n",
       "      <td>2021-03-01 00:10:33.163037</td>\n",
       "      <td>s_10</td>\n",
       "      <td>c_2218</td>\n",
       "    </tr>\n",
       "    <tr>\n",
       "      <th>42015</th>\n",
       "      <td>0_1451</td>\n",
       "      <td>2021-03-01 04:43:58.025677</td>\n",
       "      <td>s_100</td>\n",
       "      <td>c_3854</td>\n",
       "    </tr>\n",
       "    <tr>\n",
       "      <th>148829</th>\n",
       "      <td>0_1030</td>\n",
       "      <td>2021-03-01 04:12:43.572994</td>\n",
       "      <td>s_100</td>\n",
       "      <td>c_3854</td>\n",
       "    </tr>\n",
       "    <tr>\n",
       "      <th>328546</th>\n",
       "      <td>0_1590</td>\n",
       "      <td>2021-03-03 02:49:03.169115</td>\n",
       "      <td>s_1000</td>\n",
       "      <td>c_1014</td>\n",
       "    </tr>\n",
       "    <tr>\n",
       "      <th>...</th>\n",
       "      <td>...</td>\n",
       "      <td>...</td>\n",
       "      <td>...</td>\n",
       "      <td>...</td>\n",
       "    </tr>\n",
       "    <tr>\n",
       "      <th>195716</th>\n",
       "      <td>0_1475</td>\n",
       "      <td>2021-10-04 18:45:05.640783</td>\n",
       "      <td>s_99996</td>\n",
       "      <td>c_4900</td>\n",
       "    </tr>\n",
       "    <tr>\n",
       "      <th>91053</th>\n",
       "      <td>0_1197</td>\n",
       "      <td>2021-10-04 18:45:38.003516</td>\n",
       "      <td>s_99997</td>\n",
       "      <td>c_3521</td>\n",
       "    </tr>\n",
       "    <tr>\n",
       "      <th>251734</th>\n",
       "      <td>0_1572</td>\n",
       "      <td>2021-10-04 18:45:54.374885</td>\n",
       "      <td>s_99998</td>\n",
       "      <td>c_2795</td>\n",
       "    </tr>\n",
       "    <tr>\n",
       "      <th>8124</th>\n",
       "      <td>0_1604</td>\n",
       "      <td>2021-10-04 19:00:20.030388</td>\n",
       "      <td>s_99998</td>\n",
       "      <td>c_2795</td>\n",
       "    </tr>\n",
       "    <tr>\n",
       "      <th>143827</th>\n",
       "      <td>0_1411</td>\n",
       "      <td>2021-10-04 18:50:59.099942</td>\n",
       "      <td>s_99998</td>\n",
       "      <td>c_2795</td>\n",
       "    </tr>\n",
       "  </tbody>\n",
       "</table>\n",
       "<p>336816 rows × 4 columns</p>\n",
       "</div>"
      ],
      "text/plain": [
       "       id_prod                      dates session_id client_id\n",
       "176486  0_1259 2021-03-01 00:01:07.843138        s_1     c_329\n",
       "309361   1_635 2021-03-01 00:10:33.163037       s_10    c_2218\n",
       "42015   0_1451 2021-03-01 04:43:58.025677      s_100    c_3854\n",
       "148829  0_1030 2021-03-01 04:12:43.572994      s_100    c_3854\n",
       "328546  0_1590 2021-03-03 02:49:03.169115     s_1000    c_1014\n",
       "...        ...                        ...        ...       ...\n",
       "195716  0_1475 2021-10-04 18:45:05.640783    s_99996    c_4900\n",
       "91053   0_1197 2021-10-04 18:45:38.003516    s_99997    c_3521\n",
       "251734  0_1572 2021-10-04 18:45:54.374885    s_99998    c_2795\n",
       "8124    0_1604 2021-10-04 19:00:20.030388    s_99998    c_2795\n",
       "143827  0_1411 2021-10-04 18:50:59.099942    s_99998    c_2795\n",
       "\n",
       "[336816 rows x 4 columns]"
      ]
     },
     "execution_count": 29,
     "metadata": {},
     "output_type": "execute_result"
    }
   ],
   "source": [
    "ventes.sort_values(\"session_id\")"
   ]
  },
  {
   "cell_type": "markdown",
   "metadata": {},
   "source": [
    "#### Corré ages montants des achats"
   ]
  },
  {
   "cell_type": "code",
   "execution_count": 30,
   "metadata": {},
   "outputs": [],
   "source": [
    "#selection des colonnes \n",
    "agesMontant = ventesClientsProduits[['age','price','session_id']]"
   ]
  },
  {
   "cell_type": "code",
   "execution_count": 31,
   "metadata": {
    "scrolled": true
   },
   "outputs": [
    {
     "data": {
      "text/html": [
       "<div>\n",
       "<style scoped>\n",
       "    .dataframe tbody tr th:only-of-type {\n",
       "        vertical-align: middle;\n",
       "    }\n",
       "\n",
       "    .dataframe tbody tr th {\n",
       "        vertical-align: top;\n",
       "    }\n",
       "\n",
       "    .dataframe thead th {\n",
       "        text-align: right;\n",
       "    }\n",
       "</style>\n",
       "<table border=\"1\" class=\"dataframe\">\n",
       "  <thead>\n",
       "    <tr style=\"text-align: right;\">\n",
       "      <th></th>\n",
       "      <th>age</th>\n",
       "      <th>price</th>\n",
       "    </tr>\n",
       "  </thead>\n",
       "  <tbody>\n",
       "    <tr>\n",
       "      <th>0</th>\n",
       "      <td>18</td>\n",
       "      <td>68.99</td>\n",
       "    </tr>\n",
       "    <tr>\n",
       "      <th>1</th>\n",
       "      <td>18</td>\n",
       "      <td>67.57</td>\n",
       "    </tr>\n",
       "    <tr>\n",
       "      <th>2</th>\n",
       "      <td>18</td>\n",
       "      <td>12.99</td>\n",
       "    </tr>\n",
       "    <tr>\n",
       "      <th>3</th>\n",
       "      <td>18</td>\n",
       "      <td>15.99</td>\n",
       "    </tr>\n",
       "    <tr>\n",
       "      <th>4</th>\n",
       "      <td>18</td>\n",
       "      <td>67.57</td>\n",
       "    </tr>\n",
       "    <tr>\n",
       "      <th>...</th>\n",
       "      <td>...</td>\n",
       "      <td>...</td>\n",
       "    </tr>\n",
       "    <tr>\n",
       "      <th>169189</th>\n",
       "      <td>93</td>\n",
       "      <td>13.11</td>\n",
       "    </tr>\n",
       "    <tr>\n",
       "      <th>169190</th>\n",
       "      <td>93</td>\n",
       "      <td>84.49</td>\n",
       "    </tr>\n",
       "    <tr>\n",
       "      <th>169191</th>\n",
       "      <td>93</td>\n",
       "      <td>7.99</td>\n",
       "    </tr>\n",
       "    <tr>\n",
       "      <th>169192</th>\n",
       "      <td>93</td>\n",
       "      <td>21.19</td>\n",
       "    </tr>\n",
       "    <tr>\n",
       "      <th>169193</th>\n",
       "      <td>93</td>\n",
       "      <td>78.90</td>\n",
       "    </tr>\n",
       "  </tbody>\n",
       "</table>\n",
       "<p>169194 rows × 2 columns</p>\n",
       "</div>"
      ],
      "text/plain": [
       "        age  price\n",
       "0        18  68.99\n",
       "1        18  67.57\n",
       "2        18  12.99\n",
       "3        18  15.99\n",
       "4        18  67.57\n",
       "...     ...    ...\n",
       "169189   93  13.11\n",
       "169190   93  84.49\n",
       "169191   93   7.99\n",
       "169192   93  21.19\n",
       "169193   93  78.90\n",
       "\n",
       "[169194 rows x 2 columns]"
      ]
     },
     "execution_count": 31,
     "metadata": {},
     "output_type": "execute_result"
    }
   ],
   "source": [
    "#agrégation pour avoir le montant du panier de chaque client \n",
    "agesMontantSum = agesMontant.groupby(['age','session_id']).sum()\n",
    "agesMontantSum = agesMontantSum.reset_index()\n",
    "agesMontantSum = agesMontantSum[[\"age\",\"price\"]]\n",
    "agesMontantSum"
   ]
  },
  {
   "cell_type": "code",
   "execution_count": 93,
   "metadata": {},
   "outputs": [
    {
     "name": "stdout",
     "output_type": "stream",
     "text": [
      "const    67.351215\n",
      "age      -0.721282\n",
      "dtype: float64\n"
     ]
    },
    {
     "data": {
      "image/png": "[encoded data removed]",
      "text/plain": [
       "<Figure size 1440x720 with 1 Axes>"
      ]
     },
     "metadata": {
      "needs_background": "light"
     },
     "output_type": "display_data"
    }
   ],
   "source": [
    "Yams = agesMontantSum['price']\n",
    "Xams = agesMontantSum[['age']]\n",
    "Xams = sm.add_constant(Xams)\n",
    "moindreCareAms = sm.OLS(Yams, Xams).fit() # OLS = Ordinary Least Square (Moindres Carrés Ordinaire)\n",
    "a,b = moindreCareAms.params['age'],moindreCareAms.params['const']\n",
    "\n",
    "print(moindreCareAms.params)\n",
    "\n",
    "fig = plt.figure(1, figsize=(20, 10))\n",
    "axes = plt.gca()\n",
    "plt.plot(agesMontantSum.age,agesMontantSum.price, \"o\")\n",
    "plt.plot(np.arange(18,93),[a*x+b for x in np.arange(18,93)])\n",
    "plt.title(\"Corrélations ages/montant du panier\",fontsize = 20)\n",
    "plt.xlabel(\"Age\",fontsize = 15, fontweight= 'heavy')\n",
    "plt.ylabel(\"Prix\",fontsize = 15, fontweight= 'heavy')\n",
    "axes.yaxis.set_tick_params (labelsize =15)\n",
    "axes.xaxis.set_tick_params (labelsize =15)\n",
    "plt.show()"
   ]
  },
  {
   "cell_type": "code",
   "execution_count": 33,
   "metadata": {
    "scrolled": true
   },
   "outputs": [
    {
     "name": "stdout",
     "output_type": "stream",
     "text": [
      "Coefficients: \n",
      " [[-0.72128226]]\n",
      "Mean squared error: 900.70\n",
      "Coefficient of determination: 0.11\n"
     ]
    },
    {
     "data": {
      "image/png": "[encoded data removed]",
      "text/plain": [
       "<Figure size 1440x720 with 1 Axes>"
      ]
     },
     "metadata": {},
     "output_type": "display_data"
    }
   ],
   "source": [
    "# Create linear regression object\n",
    "regr = linear_model.LinearRegression()\n",
    "\n",
    "# Train the model using the training sets\n",
    "regr.fit(agesMontantSum[['age']], agesMontantSum[['price']])\n",
    "\n",
    "# Make predictions using the testing set\n",
    "agesMontantSumPricePred = regr.predict(agesMontantSum[['age']])\n",
    "\n",
    "# The coefficients\n",
    "print('Coefficients: \\n', regr.coef_)\n",
    "# The mean squared error\n",
    "print('Mean squared error: %.2f'\n",
    "      % mean_squared_error(agesMontantSum[['price']], agesMontantSumPricePred))\n",
    "# The coefficient of determination: 1 is perfect prediction\n",
    "print('Coefficient of determination: %.2f'\n",
    "      % r2_score(agesMontantSum[['price']], agesMontantSumPricePred))\n",
    "\n",
    "# Plot outputs\n",
    "fig = plt.figure(1, figsize=(20, 10))\n",
    "plt.scatter(agesMontantSum[['age']], agesMontantSum[['price']],  color='black')\n",
    "plt.plot(agesMontantSum[['age']], agesMontantSumPricePred, color='blue', linewidth=3)\n",
    "\n",
    "plt.xticks(())\n",
    "plt.yticks(())\n",
    "\n",
    "plt.show()"
   ]
  },
  {
   "cell_type": "code",
   "execution_count": 34,
   "metadata": {},
   "outputs": [
    {
     "name": "stdout",
     "output_type": "stream",
     "text": [
      "-0.3366687038272753\n",
      "-159.63402267389694\n"
     ]
    }
   ],
   "source": [
    "print(stats.pearsonr(agesMontantSum[\"age\"],agesMontantSum[\"price\"])[0])\n",
    "print(np.cov(agesMontantSum[\"age\"],agesMontantSum[\"price\"],ddof=0)[1,0])"
   ]
  },
  {
   "cell_type": "markdown",
   "metadata": {},
   "source": [
    "#### Corré age/fréquence des achats"
   ]
  },
  {
   "cell_type": "code",
   "execution_count": 35,
   "metadata": {
    "scrolled": true
   },
   "outputs": [
    {
     "data": {
      "text/html": [
       "<div>\n",
       "<style scoped>\n",
       "    .dataframe tbody tr th:only-of-type {\n",
       "        vertical-align: middle;\n",
       "    }\n",
       "\n",
       "    .dataframe tbody tr th {\n",
       "        vertical-align: top;\n",
       "    }\n",
       "\n",
       "    .dataframe thead th {\n",
       "        text-align: right;\n",
       "    }\n",
       "</style>\n",
       "<table border=\"1\" class=\"dataframe\">\n",
       "  <thead>\n",
       "    <tr style=\"text-align: right;\">\n",
       "      <th></th>\n",
       "      <th>age</th>\n",
       "      <th>session_id</th>\n",
       "    </tr>\n",
       "  </thead>\n",
       "  <tbody>\n",
       "    <tr>\n",
       "      <th>0</th>\n",
       "      <td>18</td>\n",
       "      <td>1.542035</td>\n",
       "    </tr>\n",
       "    <tr>\n",
       "      <th>1</th>\n",
       "      <td>19</td>\n",
       "      <td>1.537060</td>\n",
       "    </tr>\n",
       "    <tr>\n",
       "      <th>2</th>\n",
       "      <td>20</td>\n",
       "      <td>1.499412</td>\n",
       "    </tr>\n",
       "    <tr>\n",
       "      <th>3</th>\n",
       "      <td>21</td>\n",
       "      <td>1.549538</td>\n",
       "    </tr>\n",
       "    <tr>\n",
       "      <th>4</th>\n",
       "      <td>22</td>\n",
       "      <td>1.520619</td>\n",
       "    </tr>\n",
       "    <tr>\n",
       "      <th>...</th>\n",
       "      <td>...</td>\n",
       "      <td>...</td>\n",
       "    </tr>\n",
       "    <tr>\n",
       "      <th>71</th>\n",
       "      <td>89</td>\n",
       "      <td>2.226415</td>\n",
       "    </tr>\n",
       "    <tr>\n",
       "      <th>72</th>\n",
       "      <td>90</td>\n",
       "      <td>2.145833</td>\n",
       "    </tr>\n",
       "    <tr>\n",
       "      <th>73</th>\n",
       "      <td>91</td>\n",
       "      <td>1.633333</td>\n",
       "    </tr>\n",
       "    <tr>\n",
       "      <th>74</th>\n",
       "      <td>92</td>\n",
       "      <td>2.769231</td>\n",
       "    </tr>\n",
       "    <tr>\n",
       "      <th>75</th>\n",
       "      <td>93</td>\n",
       "      <td>2.206897</td>\n",
       "    </tr>\n",
       "  </tbody>\n",
       "</table>\n",
       "<p>76 rows × 2 columns</p>\n",
       "</div>"
      ],
      "text/plain": [
       "    age  session_id\n",
       "0    18    1.542035\n",
       "1    19    1.537060\n",
       "2    20    1.499412\n",
       "3    21    1.549538\n",
       "4    22    1.520619\n",
       "..  ...         ...\n",
       "71   89    2.226415\n",
       "72   90    2.145833\n",
       "73   91    1.633333\n",
       "74   92    2.769231\n",
       "75   93    2.206897\n",
       "\n",
       "[76 rows x 2 columns]"
      ]
     },
     "execution_count": 35,
     "metadata": {},
     "output_type": "execute_result"
    }
   ],
   "source": [
    "agesFq = ventesClientsProduits[[\"client_id\",\"age\",\"session_id\",\"dates\"]] #selection colonne \n",
    "agesFq = agesFq.drop_duplicates(\"session_id\") #selection des visites\n",
    "agesFq = agesFq.set_index('dates')\n",
    "agesFq = agesFq.groupby([pd.Grouper(freq='M'),'client_id','age']).count() #nb visites par clients\n",
    "agesFq = agesFq.reset_index()  #reset d'index pour l'agregation \n",
    "agesFq = agesFq.groupby(\"age\").mean() #moyenne de visite par age \n",
    "agesFq = agesFq.reset_index() #reset pour utilisation corrélation\n",
    "agesFq\n"
   ]
  },
  {
   "cell_type": "code",
   "execution_count": 98,
   "metadata": {
    "scrolled": true
   },
   "outputs": [
    {
     "name": "stdout",
     "output_type": "stream",
     "text": [
      "const    2.290037\n",
      "age      0.001425\n",
      "dtype: float64\n"
     ]
    },
    {
     "data": {
      "image/png": "[encoded data removed]",
      "text/plain": [
       "<Figure size 1440x720 with 1 Axes>"
      ]
     },
     "metadata": {
      "needs_background": "light"
     },
     "output_type": "display_data"
    }
   ],
   "source": [
    "Yafq = agesFq['session_id']\n",
    "Xafq = agesFq[['age']]\n",
    "Xafq = sm.add_constant(Xafq)\n",
    "moindreCareAfq = sm.OLS(Yafq, Xafq).fit() # OLS = Ordinary Least Square (Moindres Carrés Ordinaire)\n",
    "a,b = moindreCareAfq.params['age'],moindreCareAfq.params['const']\n",
    "\n",
    "print(moindreCareAfq.params)\n",
    "\n",
    "fig = plt.figure(1, figsize=(20, 10))\n",
    "def pltcolor(lst):\n",
    "    cols=[]\n",
    "    for i in lst:\n",
    "        if i <= 30:\n",
    "            cols.append(\"#009E42\")\n",
    "        elif i >= 31:\n",
    "            cols.append(\"#9E0B00\")\n",
    "        else:\n",
    "            cols.append('green')\n",
    "    return cols\n",
    "# Create the colors list using the function above\n",
    "cols=pltcolor(agesFq.age)\n",
    "\n",
    "plt.scatter(agesFq['age'],agesFq[\"session_id\"],c = cols, marker =\"o\")\n",
    "axes = plt.gca()\n",
    "plt.plot(np.arange(18,93),[a*x+b for x in np.arange(18,93)])\n",
    "plt.xlabel(\"Ages\",fontsize =15,fontweight = 'heavy')\n",
    "plt.ylabel(\"Nombre d'achats par mois\", fontsize= 15 ,fontweight = 'heavy' ) \n",
    "plt.title(\"Nombre d'achats par age (sur un an)\", fontsize = 20)\n",
    "axes.yaxis.set_tick_params (labelsize =15)\n",
    "axes.xaxis.set_tick_params (labelsize =15)\n",
    "plt.show()"
   ]
  },
  {
   "cell_type": "code",
   "execution_count": 37,
   "metadata": {},
   "outputs": [
    {
     "name": "stdout",
     "output_type": "stream",
     "text": [
      "age           24.000000\n",
      "session_id     1.680506\n",
      "dtype: float64\n",
      "age           61.500000\n",
      "session_id     2.496024\n",
      "dtype: float64\n"
     ]
    }
   ],
   "source": [
    "print (agesFq[agesFq[\"age\"]<=30].mean())\n",
    "print (agesFq[agesFq[\"age\"]>=30].mean())"
   ]
  },
  {
   "cell_type": "markdown",
   "metadata": {},
   "source": [
    "#### Corré age/Taille du panier"
   ]
  },
  {
   "cell_type": "code",
   "execution_count": 38,
   "metadata": {},
   "outputs": [
    {
     "data": {
      "text/html": [
       "<div>\n",
       "<style scoped>\n",
       "    .dataframe tbody tr th:only-of-type {\n",
       "        vertical-align: middle;\n",
       "    }\n",
       "\n",
       "    .dataframe tbody tr th {\n",
       "        vertical-align: top;\n",
       "    }\n",
       "\n",
       "    .dataframe thead th {\n",
       "        text-align: right;\n",
       "    }\n",
       "</style>\n",
       "<table border=\"1\" class=\"dataframe\">\n",
       "  <thead>\n",
       "    <tr style=\"text-align: right;\">\n",
       "      <th></th>\n",
       "      <th>age</th>\n",
       "      <th>taille_du_panier</th>\n",
       "    </tr>\n",
       "  </thead>\n",
       "  <tbody>\n",
       "    <tr>\n",
       "      <th>0</th>\n",
       "      <td>18</td>\n",
       "      <td>1.757054</td>\n",
       "    </tr>\n",
       "    <tr>\n",
       "      <th>1</th>\n",
       "      <td>19</td>\n",
       "      <td>1.724901</td>\n",
       "    </tr>\n",
       "    <tr>\n",
       "      <th>2</th>\n",
       "      <td>20</td>\n",
       "      <td>1.742947</td>\n",
       "    </tr>\n",
       "    <tr>\n",
       "      <th>3</th>\n",
       "      <td>21</td>\n",
       "      <td>1.732310</td>\n",
       "    </tr>\n",
       "    <tr>\n",
       "      <th>4</th>\n",
       "      <td>22</td>\n",
       "      <td>1.843220</td>\n",
       "    </tr>\n",
       "    <tr>\n",
       "      <th>...</th>\n",
       "      <td>...</td>\n",
       "      <td>...</td>\n",
       "    </tr>\n",
       "    <tr>\n",
       "      <th>71</th>\n",
       "      <td>89</td>\n",
       "      <td>1.389831</td>\n",
       "    </tr>\n",
       "    <tr>\n",
       "      <th>72</th>\n",
       "      <td>90</td>\n",
       "      <td>1.543689</td>\n",
       "    </tr>\n",
       "    <tr>\n",
       "      <th>73</th>\n",
       "      <td>91</td>\n",
       "      <td>1.714286</td>\n",
       "    </tr>\n",
       "    <tr>\n",
       "      <th>74</th>\n",
       "      <td>92</td>\n",
       "      <td>1.597222</td>\n",
       "    </tr>\n",
       "    <tr>\n",
       "      <th>75</th>\n",
       "      <td>93</td>\n",
       "      <td>1.343750</td>\n",
       "    </tr>\n",
       "  </tbody>\n",
       "</table>\n",
       "<p>76 rows × 2 columns</p>\n",
       "</div>"
      ],
      "text/plain": [
       "    age  taille_du_panier\n",
       "0    18          1.757054\n",
       "1    19          1.724901\n",
       "2    20          1.742947\n",
       "3    21          1.732310\n",
       "4    22          1.843220\n",
       "..  ...               ...\n",
       "71   89          1.389831\n",
       "72   90          1.543689\n",
       "73   91          1.714286\n",
       "74   92          1.597222\n",
       "75   93          1.343750\n",
       "\n",
       "[76 rows x 2 columns]"
      ]
     },
     "execution_count": 38,
     "metadata": {},
     "output_type": "execute_result"
    }
   ],
   "source": [
    "agesTaillesPanier = ventesClientsProduits[['age','price','session_id']]\n",
    "agesTaillesPanier = agesTaillesPanier.groupby(['age','session_id']).count()\n",
    "agesTaillesPanier = agesTaillesPanier.reset_index()\n",
    "agesTaillesPanier = agesTaillesPanier[[\"age\",\"price\"]]\n",
    "agesTaillesPanier = agesTaillesPanier.groupby (\"age\").mean()\n",
    "agesTaillesPanier.columns = [\"taille_du_panier\"]\n",
    "agesTaillesPanier = agesTaillesPanier.reset_index()\n",
    "agesTaillesPanier"
   ]
  },
  {
   "cell_type": "code",
   "execution_count": 97,
   "metadata": {},
   "outputs": [
    {
     "name": "stdout",
     "output_type": "stream",
     "text": [
      "const    2.371667\n",
      "age     -0.010954\n",
      "dtype: float64\n"
     ]
    },
    {
     "data": {
      "image/png": "[encoded data removed]",
      "text/plain": [
       "<Figure size 1440x720 with 1 Axes>"
      ]
     },
     "metadata": {
      "needs_background": "light"
     },
     "output_type": "display_data"
    }
   ],
   "source": [
    "Yatp = agesTaillesPanier['taille_du_panier']\n",
    "Xatp = agesTaillesPanier[['age']]\n",
    "Xatp = sm.add_constant(Xatp)\n",
    "moindreCareAtp = sm.OLS(Yatp, Xatp).fit() # OLS = Ordinary Least Square (Moindres Carrés Ordinaire)\n",
    "a,b = moindreCareAtp.params['age'],moindreCareAtp.params['const']\n",
    "\n",
    "print(moindreCareAtp.params)\n",
    "\n",
    "fig = plt.figure(1, figsize=(20, 10))\n",
    "fig = plt.figure(1, figsize=(20, 10))\n",
    "def pltcolor2(lst):\n",
    "    cols=[]\n",
    "    for i in lst:\n",
    "        if i <= 30:\n",
    "            cols.append(\"#5163F0\")\n",
    "        elif 50 >= i >= 31:\n",
    "            cols.append(\"#7EF039\")\n",
    "        else:\n",
    "            cols.append('#F05B22')\n",
    "    return cols\n",
    "# Create the colors list using the function above\n",
    "cols2=pltcolor2(agesFq.age)\n",
    "\n",
    "plt.scatter(agesTaillesPanier[\"age\"],agesTaillesPanier[\"taille_du_panier\"], c= cols2,  marker = \"o\")\n",
    "axes= plt.gca()\n",
    "plt.plot(np.arange(18,93),[a*x+b for x in np.arange(18,93)])\n",
    "plt.xlabel(\"Ages\",fontsize =15, fontweight = 'heavy')\n",
    "plt.ylabel(\"Taille du panier\", fontsize= 15, fontweight = 'heavy' )\n",
    "plt.title(\"Taille du panier en fonction de l'âge\", fontsize = 20 )\n",
    "axes.yaxis.set_tick_params (labelsize =15)\n",
    "axes.xaxis.set_tick_params (labelsize =15)\n",
    "plt.show()"
   ]
  },
  {
   "cell_type": "code",
   "execution_count": 40,
   "metadata": {},
   "outputs": [
    {
     "name": "stdout",
     "output_type": "stream",
     "text": [
      "age                 24.000000\n",
      "taille_du_panier     1.748943\n",
      "dtype: float64\n",
      "age                 40.500000\n",
      "taille_du_panier     2.415306\n",
      "dtype: float64\n",
      "age                 72.000000\n",
      "taille_du_panier     1.465141\n",
      "dtype: float64\n"
     ]
    }
   ],
   "source": [
    "print (agesTaillesPanier[agesTaillesPanier[\"age\"]<=30].mean())\n",
    "print (agesTaillesPanier[(agesTaillesPanier[\"age\"]>=31) &(agesTaillesPanier[\"age\"]<=50)].mean())\n",
    "print (agesTaillesPanier[agesTaillesPanier[\"age\"]>=51].mean())"
   ]
  },
  {
   "cell_type": "markdown",
   "metadata": {},
   "source": [
    "#### Corré age/caté"
   ]
  },
  {
   "cell_type": "code",
   "execution_count": 41,
   "metadata": {},
   "outputs": [
    {
     "data": {
      "text/html": [
       "<div>\n",
       "<style scoped>\n",
       "    .dataframe tbody tr th:only-of-type {\n",
       "        vertical-align: middle;\n",
       "    }\n",
       "\n",
       "    .dataframe tbody tr th {\n",
       "        vertical-align: top;\n",
       "    }\n",
       "\n",
       "    .dataframe thead th {\n",
       "        text-align: right;\n",
       "    }\n",
       "</style>\n",
       "<table border=\"1\" class=\"dataframe\">\n",
       "  <thead>\n",
       "    <tr style=\"text-align: right;\">\n",
       "      <th></th>\n",
       "      <th>age</th>\n",
       "      <th>categ</th>\n",
       "    </tr>\n",
       "  </thead>\n",
       "  <tbody>\n",
       "    <tr>\n",
       "      <th>0</th>\n",
       "      <td>45</td>\n",
       "      <td>0</td>\n",
       "    </tr>\n",
       "    <tr>\n",
       "      <th>1</th>\n",
       "      <td>41</td>\n",
       "      <td>0</td>\n",
       "    </tr>\n",
       "    <tr>\n",
       "      <th>2</th>\n",
       "      <td>37</td>\n",
       "      <td>0</td>\n",
       "    </tr>\n",
       "    <tr>\n",
       "      <th>3</th>\n",
       "      <td>33</td>\n",
       "      <td>0</td>\n",
       "    </tr>\n",
       "    <tr>\n",
       "      <th>4</th>\n",
       "      <td>42</td>\n",
       "      <td>0</td>\n",
       "    </tr>\n",
       "    <tr>\n",
       "      <th>...</th>\n",
       "      <td>...</td>\n",
       "      <td>...</td>\n",
       "    </tr>\n",
       "    <tr>\n",
       "      <th>336811</th>\n",
       "      <td>35</td>\n",
       "      <td>0</td>\n",
       "    </tr>\n",
       "    <tr>\n",
       "      <th>336812</th>\n",
       "      <td>33</td>\n",
       "      <td>0</td>\n",
       "    </tr>\n",
       "    <tr>\n",
       "      <th>336813</th>\n",
       "      <td>30</td>\n",
       "      <td>2</td>\n",
       "    </tr>\n",
       "    <tr>\n",
       "      <th>336814</th>\n",
       "      <td>29</td>\n",
       "      <td>2</td>\n",
       "    </tr>\n",
       "    <tr>\n",
       "      <th>336815</th>\n",
       "      <td>19</td>\n",
       "      <td>2</td>\n",
       "    </tr>\n",
       "  </tbody>\n",
       "</table>\n",
       "<p>336816 rows × 2 columns</p>\n",
       "</div>"
      ],
      "text/plain": [
       "        age  categ\n",
       "0        45      0\n",
       "1        41      0\n",
       "2        37      0\n",
       "3        33      0\n",
       "4        42      0\n",
       "...     ...    ...\n",
       "336811   35      0\n",
       "336812   33      0\n",
       "336813   30      2\n",
       "336814   29      2\n",
       "336815   19      2\n",
       "\n",
       "[336816 rows x 2 columns]"
      ]
     },
     "execution_count": 41,
     "metadata": {},
     "output_type": "execute_result"
    }
   ],
   "source": [
    "ageCateg = ventesClientsProduits[['age','categ']]\n",
    "ageCateg "
   ]
  },
  {
   "cell_type": "code",
   "execution_count": 99,
   "metadata": {
    "scrolled": false
   },
   "outputs": [
    {
     "data": {
      "text/plain": [
       "Text(0.5, 1.0, \"Catégories achetés en fonction de l'âge \")"
      ]
     },
     "execution_count": 99,
     "metadata": {},
     "output_type": "execute_result"
    },
    {
     "data": {
      "image/png": "[encoded data removed]",
      "text/plain": [
       "<Figure size 720x504 with 1 Axes>"
      ]
     },
     "metadata": {
      "needs_background": "light"
     },
     "output_type": "display_data"
    }
   ],
   "source": [
    "plt.figure(figsize=(10,7))\n",
    "axes = plt.gca()\n",
    "sns.boxplot( x= ageCateg[\"categ\"], y = ageCateg[\"age\"],showfliers = False, palette ='Blues')\n",
    "plt.xlabel('Catégories', fontsize = 15,fontweight = 'heavy')\n",
    "plt.ylabel('Ages', fontsize = 15,fontweight = 'heavy')\n",
    "axes.yaxis.set_tick_params (labelsize =15)\n",
    "axes.xaxis.set_tick_params (labelsize =15)\n",
    "plt.title(\"Catégories achetés en fonction de l'âge \", fontsize = 20)"
   ]
  },
  {
   "cell_type": "code",
   "execution_count": 43,
   "metadata": {},
   "outputs": [
    {
     "data": {
      "text/plain": [
       "0.28116319805383183"
      ]
     },
     "execution_count": 43,
     "metadata": {},
     "output_type": "execute_result"
    }
   ],
   "source": [
    "def eta_squared(x,y):\n",
    "    moyenne_y = y.mean()\n",
    "    classes = []\n",
    "    for classe in x.unique():\n",
    "        yi_classe = y[x==classe]\n",
    "        classes.append({'ni': len(yi_classe),\n",
    "                        'moyenne_classe': yi_classe.mean()})\n",
    "    SCT = sum([(yj-moyenne_y)**2 for yj in y])\n",
    "    SCE = sum([c['ni']*(c['moyenne_classe']-moyenne_y)**2 for c in classes])\n",
    "    return SCE/SCT\n",
    "    \n",
    "eta_squared(ageCateg[\"age\"],ageCateg[\"categ\"])"
   ]
  },
  {
   "cell_type": "markdown",
   "metadata": {},
   "source": [
    "# Supplémentaire pour étayer la présentation"
   ]
  },
  {
   "cell_type": "markdown",
   "metadata": {},
   "source": [
    "### Evolution du chiffre d'affaire"
   ]
  },
  {
   "cell_type": "code",
   "execution_count": 44,
   "metadata": {},
   "outputs": [],
   "source": [
    "datesPrice = ventesClientsProduits[['dates','price']]\n",
    "datesPrice = datesPrice.set_index('dates')\n",
    "evoCaMois = datesPrice.groupby(pd.Grouper(freq='M')).sum()\n",
    "evoCaMois = evoCaMois.reset_index()\n",
    "evoCaMois = evoCaMois.sort_values('dates')\n",
    "evoCaMois['dates'] = evoCaMois['dates'].dt.strftime('%Y-%m')\n",
    "evoCaMois = evoCaMois.set_index('dates')\n",
    "evoCaMois.columns = ['chiffre_affaire']\n",
    "evoCaMois['croissance']= evoCaMois.chiffre_affaire.pct_change().mul(100).round(1).map(lambda x: '{0:g}%'.format(x) if x==x else x)\n",
    "evoCaMois = evoCaMois.fillna(0)"
   ]
  },
  {
   "cell_type": "code",
   "execution_count": 91,
   "metadata": {
    "scrolled": false
   },
   "outputs": [
    {
     "data": {
      "image/png": "[encoded data removed]",
      "text/plain": [
       "<Figure size 1440x720 with 1 Axes>"
      ]
     },
     "metadata": {
      "needs_background": "light"
     },
     "output_type": "display_data"
    }
   ],
   "source": [
    "evoCaMois[\"chiffre_affaire\"].plot(kind = 'bar',figsize=(20,10))\n",
    "axes= plt.gca()\n",
    "plt.xlabel('Dates', fontsize=15, fontweight = \"heavy\")\n",
    "plt.ylabel(\"chiffre d'affaire\", fontsize=15, fontweight = \"heavy\")\n",
    "axes.yaxis.set_tick_params (labelsize =15)\n",
    "axes.xaxis.set_tick_params (labelsize =15)\n",
    "plt.title(\"Evolution du chiffre d'affaire chaque mois\", fontsize=20)\n",
    "label = evoCaMois['croissance']\n",
    "xAudessus =[0,1,2,3,4,5,6,7,8,9,10,11]\n",
    "yAudessus = evoCaMois['chiffre_affaire']\n",
    "for i in range(len(evoCaMois)):\n",
    "    plt.text(x = xAudessus[i]-0.2, y = yAudessus[i]+10000, s = label[i], size = 15)"
   ]
  },
  {
   "cell_type": "markdown",
   "metadata": {},
   "source": [
    "### CA classe d'âge / an "
   ]
  },
  {
   "cell_type": "code",
   "execution_count": 57,
   "metadata": {},
   "outputs": [
    {
     "data": {
      "text/html": [
       "<div>\n",
       "<style scoped>\n",
       "    .dataframe tbody tr th:only-of-type {\n",
       "        vertical-align: middle;\n",
       "    }\n",
       "\n",
       "    .dataframe tbody tr th {\n",
       "        vertical-align: top;\n",
       "    }\n",
       "\n",
       "    .dataframe thead th {\n",
       "        text-align: right;\n",
       "    }\n",
       "</style>\n",
       "<table border=\"1\" class=\"dataframe\">\n",
       "  <thead>\n",
       "    <tr style=\"text-align: right;\">\n",
       "      <th></th>\n",
       "      <th>price</th>\n",
       "      <th>pourcentage</th>\n",
       "    </tr>\n",
       "    <tr>\n",
       "      <th>classe_age</th>\n",
       "      <th></th>\n",
       "      <th></th>\n",
       "    </tr>\n",
       "  </thead>\n",
       "  <tbody>\n",
       "    <tr>\n",
       "      <th>20 et moins</th>\n",
       "      <td>3.838494e+05</td>\n",
       "      <td>6.620620</td>\n",
       "    </tr>\n",
       "    <tr>\n",
       "      <th>20-29</th>\n",
       "      <td>1.098616e+06</td>\n",
       "      <td>18.948885</td>\n",
       "    </tr>\n",
       "    <tr>\n",
       "      <th>30-39</th>\n",
       "      <td>1.261104e+06</td>\n",
       "      <td>21.751478</td>\n",
       "    </tr>\n",
       "    <tr>\n",
       "      <th>40-49</th>\n",
       "      <td>1.482469e+06</td>\n",
       "      <td>25.569565</td>\n",
       "    </tr>\n",
       "    <tr>\n",
       "      <th>50-59</th>\n",
       "      <td>8.362450e+05</td>\n",
       "      <td>14.423524</td>\n",
       "    </tr>\n",
       "    <tr>\n",
       "      <th>60-69</th>\n",
       "      <td>4.554845e+05</td>\n",
       "      <td>7.856180</td>\n",
       "    </tr>\n",
       "    <tr>\n",
       "      <th>70-79</th>\n",
       "      <td>1.835026e+05</td>\n",
       "      <td>3.165047</td>\n",
       "    </tr>\n",
       "    <tr>\n",
       "      <th>80 et plus</th>\n",
       "      <td>9.651576e+04</td>\n",
       "      <td>1.664700</td>\n",
       "    </tr>\n",
       "  </tbody>\n",
       "</table>\n",
       "</div>"
      ],
      "text/plain": [
       "                    price  pourcentage\n",
       "classe_age                            \n",
       "20 et moins  3.838494e+05     6.620620\n",
       "20-29        1.098616e+06    18.948885\n",
       "30-39        1.261104e+06    21.751478\n",
       "40-49        1.482469e+06    25.569565\n",
       "50-59        8.362450e+05    14.423524\n",
       "60-69        4.554845e+05     7.856180\n",
       "70-79        1.835026e+05     3.165047\n",
       "80 et plus   9.651576e+04     1.664700"
      ]
     },
     "execution_count": 57,
     "metadata": {},
     "output_type": "execute_result"
    }
   ],
   "source": [
    "caClassAge = ventesClientsProduits[[\"classe_age\",\"price\"]]\n",
    "caClassAge = caClassAge.groupby('classe_age').sum()\n",
    "caClassAge[\"pourcentage\"]= caClassAge.price /caClassAge.price.sum()*100\n",
    "caClassAge"
   ]
  },
  {
   "cell_type": "markdown",
   "metadata": {},
   "source": [
    "### CA categ / an "
   ]
  },
  {
   "cell_type": "code",
   "execution_count": 58,
   "metadata": {},
   "outputs": [
    {
     "data": {
      "text/html": [
       "<div>\n",
       "<style scoped>\n",
       "    .dataframe tbody tr th:only-of-type {\n",
       "        vertical-align: middle;\n",
       "    }\n",
       "\n",
       "    .dataframe tbody tr th {\n",
       "        vertical-align: top;\n",
       "    }\n",
       "\n",
       "    .dataframe thead th {\n",
       "        text-align: right;\n",
       "    }\n",
       "</style>\n",
       "<table border=\"1\" class=\"dataframe\">\n",
       "  <thead>\n",
       "    <tr style=\"text-align: right;\">\n",
       "      <th></th>\n",
       "      <th>price</th>\n",
       "      <th>pourcentage</th>\n",
       "    </tr>\n",
       "    <tr>\n",
       "      <th>categ</th>\n",
       "      <th></th>\n",
       "      <th></th>\n",
       "    </tr>\n",
       "  </thead>\n",
       "  <tbody>\n",
       "    <tr>\n",
       "      <th>0</th>\n",
       "      <td>2.230931e+06</td>\n",
       "      <td>38.479010</td>\n",
       "    </tr>\n",
       "    <tr>\n",
       "      <th>1</th>\n",
       "      <td>2.247384e+06</td>\n",
       "      <td>38.762806</td>\n",
       "    </tr>\n",
       "    <tr>\n",
       "      <th>2</th>\n",
       "      <td>1.319471e+06</td>\n",
       "      <td>22.758184</td>\n",
       "    </tr>\n",
       "  </tbody>\n",
       "</table>\n",
       "</div>"
      ],
      "text/plain": [
       "              price  pourcentage\n",
       "categ                           \n",
       "0      2.230931e+06    38.479010\n",
       "1      2.247384e+06    38.762806\n",
       "2      1.319471e+06    22.758184"
      ]
     },
     "execution_count": 58,
     "metadata": {},
     "output_type": "execute_result"
    }
   ],
   "source": [
    "caCateg = ventesClientsProduits[[\"categ\",\"price\"]]\n",
    "caCateg = caCateg.groupby('categ').sum()\n",
    "caCateg[\"pourcentage\"]= caCateg.price /caCateg.price.sum()*100\n",
    "caCateg"
   ]
  },
  {
   "cell_type": "markdown",
   "metadata": {},
   "source": [
    "### Evolution CA categ sur un an "
   ]
  },
  {
   "cell_type": "code",
   "execution_count": 68,
   "metadata": {},
   "outputs": [
    {
     "data": {
      "text/plain": [
       "<matplotlib.legend.Legend at 0x12af8da4308>"
      ]
     },
     "execution_count": 68,
     "metadata": {},
     "output_type": "execute_result"
    },
    {
     "data": {
      "image/png": "[encoded data removed]",
      "text/plain": [
       "<Figure size 1440x720 with 1 Axes>"
      ]
     },
     "metadata": {
      "needs_background": "light"
     },
     "output_type": "display_data"
    }
   ],
   "source": [
    "evoCaCateg = ventesClientsProduits[[\"dates\",\"categ\",\"price\"]]\n",
    "evoCaCateg = evoCaCateg.groupby([pd.Grouper(key = 'dates' , freq = 'M'),'categ']).sum()\n",
    "evoCaCateg = evoCaCateg.reset_index()\n",
    "evoCaCateg[\"dates\"] = evoCaCateg['dates'].dt.strftime('%Y-%m')\n",
    "evoCaCateg = evoCaCateg.set_index([\"dates\",\"categ\"])\n",
    "evoCaCateg\n",
    "evoCaCateg.unstack(level= 1).plot(kind = 'bar', figsize = (20,10), label ='categ',\n",
    "                                                    color = ('#D1CE5E',\"#D14A53\",'#349AD1'))\n",
    "plt.xlabel('Mois', fontsize=15)\n",
    "plt.ylabel('CA', fontsize=15)\n",
    "plt.title(\"CA par mois et categ\",  fontsize=15)\n",
    "plt.legend([\"categ 0\",\"categ 1\",\"categ 2\"])"
   ]
  },
  {
   "cell_type": "code",
   "execution_count": null,
   "metadata": {},
   "outputs": [],
   "source": []
  }
 ],
 "metadata": {
  "kernelspec": {
   "display_name": "Python 3",
   "language": "python",
   "name": "python3"
  },
  "language_info": {
   "codemirror_mode": {
    "name": "ipython",
    "version": 3
   },
   "file_extension": ".py",
   "mimetype": "text/x-python",
   "name": "python",
   "nbconvert_exporter": "python",
   "pygments_lexer": "ipython3",
   "version": "3.7.6"
  }
 },
 "nbformat": 4,
 "nbformat_minor": 4
}
